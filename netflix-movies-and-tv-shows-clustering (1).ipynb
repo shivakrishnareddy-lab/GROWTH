{
 "cells": [
  {
   "cell_type": "markdown",
   "metadata": {
    "id": "8bW037U-RNfP"
   },
   "source": [
    "# **1. Problem statement:**"
   ]
  },
  {
   "cell_type": "markdown",
   "metadata": {},
   "source": [
    "Given dataset is about various Netflix series and movies and their various features. \n",
    "Task 1. Try to find some more features through data mining techniques and feature engineering to get better quality analysis.\n",
    "\n",
    "Task 2, using the clustering techniques, prepare clusters from the data and by finding the unique features from those clusters, provide suggestions to Netflix on how they can give better recommendations and improve their business and App.\n"
   ]
  },
  {
   "cell_type": "markdown",
   "metadata": {
    "id": "Xjoqa59pCoVe"
   },
   "source": [
    "# **2. Importing the libraries and the dataset:**"
   ]
  },
  {
   "cell_type": "code",
   "execution_count": 2,
   "metadata": {
    "execution": {
     "iopub.execute_input": "2022-09-23T15:08:07.539912Z",
     "iopub.status.busy": "2022-09-23T15:08:07.539392Z",
     "iopub.status.idle": "2022-09-23T15:08:09.777942Z",
     "shell.execute_reply": "2022-09-23T15:08:09.776713Z",
     "shell.execute_reply.started": "2022-09-23T15:08:07.539876Z"
    },
    "id": "dByMsuzT8Tnw",
    "outputId": "45f6047d-bc53-4251-938c-2c5a7433c21d"
   },
   "outputs": [
    {
     "name": "stderr",
     "output_type": "stream",
     "text": [
      "[nltk_data] Downloading package wordnet to\n",
      "[nltk_data]     C:\\Users\\home\\AppData\\Roaming\\nltk_data...\n",
      "[nltk_data]   Package wordnet is already up-to-date!\n",
      "[nltk_data] Downloading package stopwords to\n",
      "[nltk_data]     C:\\Users\\home\\AppData\\Roaming\\nltk_data...\n",
      "[nltk_data]   Package stopwords is already up-to-date!\n",
      "[nltk_data] Downloading package omw-1.4 to\n",
      "[nltk_data]     C:\\Users\\home\\AppData\\Roaming\\nltk_data...\n",
      "[nltk_data]   Package omw-1.4 is already up-to-date!\n"
     ]
    }
   ],
   "source": [
    "# importing the required libraries\n",
    "import pandas as pd\n",
    "import numpy as np\n",
    "import matplotlib.pyplot as plt\n",
    "import seaborn as sns\n",
    "from datetime import datetime as dt\n",
    "\n",
    "import warnings\n",
    "warnings.filterwarnings('ignore')\n",
    "\n",
    "from wordcloud import WordCloud, STOPWORDS\n",
    "import re, string, unicodedata\n",
    "import nltk\n",
    "#import inflect\n",
    "from bs4 import BeautifulSoup\n",
    "from nltk import word_tokenize, sent_tokenize\n",
    "from nltk.corpus import stopwords\n",
    "from nltk.stem import LancasterStemmer, WordNetLemmatizer\n",
    "from sklearn.feature_extraction.text import TfidfVectorizer\n",
    "from sklearn.decomposition import PCA\n",
    "\n",
    "from nltk.stem import WordNetLemmatizer\n",
    "nltk.download('wordnet')\n",
    "import nltk\n",
    "nltk.download('stopwords')\n",
    "from nltk.corpus import stopwords\n",
    "import string\n",
    "string.punctuation\n",
    "nltk.download('omw-1.4')\n",
    "from nltk.tokenize import TweetTokenizer\n",
    "\n",
    "from sklearn.cluster import KMeans\n",
    "from sklearn.metrics import silhouette_score\n",
    "from sklearn.cluster import AgglomerativeClustering\n",
    "import scipy.cluster.hierarchy as shc\n",
    "\n",
    "from sklearn.feature_extraction.text import CountVectorizer\n",
    "from sklearn.metrics.pairwise import cosine_similarity\n",
    "\n",
    "%matplotlib inline\n",
    "sns.set()"
   ]
  },
  {
   "cell_type": "code",
   "execution_count": 4,
   "metadata": {
    "execution": {
     "iopub.execute_input": "2022-09-23T15:08:09.781119Z",
     "iopub.status.busy": "2022-09-23T15:08:09.779977Z",
     "iopub.status.idle": "2022-09-23T15:08:09.920977Z",
     "shell.execute_reply": "2022-09-23T15:08:09.919788Z",
     "shell.execute_reply.started": "2022-09-23T15:08:09.781077Z"
    },
    "id": "w_VSph6pw3Mn"
   },
   "outputs": [],
   "source": [
    "original_df = pd.read_csv('netflix_titles.csv')\n",
    "df = original_df.copy()"
   ]
  },
  {
   "cell_type": "markdown",
   "metadata": {
    "id": "u1HUTdS2TWLO"
   },
   "source": [
    "# **3. Understanding data:**"
   ]
  },
  {
   "cell_type": "code",
   "execution_count": 5,
   "metadata": {
    "execution": {
     "iopub.execute_input": "2022-09-23T15:08:11.570171Z",
     "iopub.status.busy": "2022-09-23T15:08:11.569701Z",
     "iopub.status.idle": "2022-09-23T15:08:11.599580Z",
     "shell.execute_reply": "2022-09-23T15:08:11.597828Z",
     "shell.execute_reply.started": "2022-09-23T15:08:11.570132Z"
    },
    "id": "eKeP3p8hxNyQ",
    "outputId": "97e39bdf-5273-4753-beec-9592da8fb935"
   },
   "outputs": [
    {
     "data": {
      "text/html": [
       "<div>\n",
       "<style scoped>\n",
       "    .dataframe tbody tr th:only-of-type {\n",
       "        vertical-align: middle;\n",
       "    }\n",
       "\n",
       "    .dataframe tbody tr th {\n",
       "        vertical-align: top;\n",
       "    }\n",
       "\n",
       "    .dataframe thead th {\n",
       "        text-align: right;\n",
       "    }\n",
       "</style>\n",
       "<table border=\"1\" class=\"dataframe\">\n",
       "  <thead>\n",
       "    <tr style=\"text-align: right;\">\n",
       "      <th></th>\n",
       "      <th>show_id</th>\n",
       "      <th>type</th>\n",
       "      <th>title</th>\n",
       "      <th>director</th>\n",
       "      <th>cast</th>\n",
       "      <th>country</th>\n",
       "      <th>date_added</th>\n",
       "      <th>release_year</th>\n",
       "      <th>rating</th>\n",
       "      <th>duration</th>\n",
       "      <th>listed_in</th>\n",
       "      <th>description</th>\n",
       "    </tr>\n",
       "  </thead>\n",
       "  <tbody>\n",
       "    <tr>\n",
       "      <th>0</th>\n",
       "      <td>s1</td>\n",
       "      <td>Movie</td>\n",
       "      <td>Dick Johnson Is Dead</td>\n",
       "      <td>Kirsten Johnson</td>\n",
       "      <td>NaN</td>\n",
       "      <td>United States</td>\n",
       "      <td>September 25, 2021</td>\n",
       "      <td>2020</td>\n",
       "      <td>PG-13</td>\n",
       "      <td>90 min</td>\n",
       "      <td>Documentaries</td>\n",
       "      <td>As her father nears the end of his life, filmm...</td>\n",
       "    </tr>\n",
       "    <tr>\n",
       "      <th>1</th>\n",
       "      <td>s2</td>\n",
       "      <td>TV Show</td>\n",
       "      <td>Blood &amp; Water</td>\n",
       "      <td>NaN</td>\n",
       "      <td>Ama Qamata, Khosi Ngema, Gail Mabalane, Thaban...</td>\n",
       "      <td>South Africa</td>\n",
       "      <td>September 24, 2021</td>\n",
       "      <td>2021</td>\n",
       "      <td>TV-MA</td>\n",
       "      <td>2 Seasons</td>\n",
       "      <td>International TV Shows, TV Dramas, TV Mysteries</td>\n",
       "      <td>After crossing paths at a party, a Cape Town t...</td>\n",
       "    </tr>\n",
       "    <tr>\n",
       "      <th>2</th>\n",
       "      <td>s3</td>\n",
       "      <td>TV Show</td>\n",
       "      <td>Ganglands</td>\n",
       "      <td>Julien Leclercq</td>\n",
       "      <td>Sami Bouajila, Tracy Gotoas, Samuel Jouy, Nabi...</td>\n",
       "      <td>NaN</td>\n",
       "      <td>September 24, 2021</td>\n",
       "      <td>2021</td>\n",
       "      <td>TV-MA</td>\n",
       "      <td>1 Season</td>\n",
       "      <td>Crime TV Shows, International TV Shows, TV Act...</td>\n",
       "      <td>To protect his family from a powerful drug lor...</td>\n",
       "    </tr>\n",
       "    <tr>\n",
       "      <th>3</th>\n",
       "      <td>s4</td>\n",
       "      <td>TV Show</td>\n",
       "      <td>Jailbirds New Orleans</td>\n",
       "      <td>NaN</td>\n",
       "      <td>NaN</td>\n",
       "      <td>NaN</td>\n",
       "      <td>September 24, 2021</td>\n",
       "      <td>2021</td>\n",
       "      <td>TV-MA</td>\n",
       "      <td>1 Season</td>\n",
       "      <td>Docuseries, Reality TV</td>\n",
       "      <td>Feuds, flirtations and toilet talk go down amo...</td>\n",
       "    </tr>\n",
       "    <tr>\n",
       "      <th>4</th>\n",
       "      <td>s5</td>\n",
       "      <td>TV Show</td>\n",
       "      <td>Kota Factory</td>\n",
       "      <td>NaN</td>\n",
       "      <td>Mayur More, Jitendra Kumar, Ranjan Raj, Alam K...</td>\n",
       "      <td>India</td>\n",
       "      <td>September 24, 2021</td>\n",
       "      <td>2021</td>\n",
       "      <td>TV-MA</td>\n",
       "      <td>2 Seasons</td>\n",
       "      <td>International TV Shows, Romantic TV Shows, TV ...</td>\n",
       "      <td>In a city of coaching centers known to train I...</td>\n",
       "    </tr>\n",
       "  </tbody>\n",
       "</table>\n",
       "</div>"
      ],
      "text/plain": [
       "  show_id     type                  title         director  \\\n",
       "0      s1    Movie   Dick Johnson Is Dead  Kirsten Johnson   \n",
       "1      s2  TV Show          Blood & Water              NaN   \n",
       "2      s3  TV Show              Ganglands  Julien Leclercq   \n",
       "3      s4  TV Show  Jailbirds New Orleans              NaN   \n",
       "4      s5  TV Show           Kota Factory              NaN   \n",
       "\n",
       "                                                cast        country  \\\n",
       "0                                                NaN  United States   \n",
       "1  Ama Qamata, Khosi Ngema, Gail Mabalane, Thaban...   South Africa   \n",
       "2  Sami Bouajila, Tracy Gotoas, Samuel Jouy, Nabi...            NaN   \n",
       "3                                                NaN            NaN   \n",
       "4  Mayur More, Jitendra Kumar, Ranjan Raj, Alam K...          India   \n",
       "\n",
       "           date_added  release_year rating   duration  \\\n",
       "0  September 25, 2021          2020  PG-13     90 min   \n",
       "1  September 24, 2021          2021  TV-MA  2 Seasons   \n",
       "2  September 24, 2021          2021  TV-MA   1 Season   \n",
       "3  September 24, 2021          2021  TV-MA   1 Season   \n",
       "4  September 24, 2021          2021  TV-MA  2 Seasons   \n",
       "\n",
       "                                           listed_in  \\\n",
       "0                                      Documentaries   \n",
       "1    International TV Shows, TV Dramas, TV Mysteries   \n",
       "2  Crime TV Shows, International TV Shows, TV Act...   \n",
       "3                             Docuseries, Reality TV   \n",
       "4  International TV Shows, Romantic TV Shows, TV ...   \n",
       "\n",
       "                                         description  \n",
       "0  As her father nears the end of his life, filmm...  \n",
       "1  After crossing paths at a party, a Cape Town t...  \n",
       "2  To protect his family from a powerful drug lor...  \n",
       "3  Feuds, flirtations and toilet talk go down amo...  \n",
       "4  In a city of coaching centers known to train I...  "
      ]
     },
     "execution_count": 5,
     "metadata": {},
     "output_type": "execute_result"
    }
   ],
   "source": [
    "# top 5 rows\n",
    "df.head()"
   ]
  },
  {
   "cell_type": "code",
   "execution_count": 6,
   "metadata": {},
   "outputs": [
    {
     "data": {
      "text/html": [
       "<div>\n",
       "<style scoped>\n",
       "    .dataframe tbody tr th:only-of-type {\n",
       "        vertical-align: middle;\n",
       "    }\n",
       "\n",
       "    .dataframe tbody tr th {\n",
       "        vertical-align: top;\n",
       "    }\n",
       "\n",
       "    .dataframe thead th {\n",
       "        text-align: right;\n",
       "    }\n",
       "</style>\n",
       "<table border=\"1\" class=\"dataframe\">\n",
       "  <thead>\n",
       "    <tr style=\"text-align: right;\">\n",
       "      <th></th>\n",
       "      <th>show_id</th>\n",
       "      <th>type</th>\n",
       "      <th>title</th>\n",
       "      <th>director</th>\n",
       "      <th>cast</th>\n",
       "      <th>country</th>\n",
       "      <th>date_added</th>\n",
       "      <th>release_year</th>\n",
       "      <th>rating</th>\n",
       "      <th>duration</th>\n",
       "      <th>listed_in</th>\n",
       "      <th>description</th>\n",
       "      <th>Month</th>\n",
       "    </tr>\n",
       "  </thead>\n",
       "  <tbody>\n",
       "    <tr>\n",
       "      <th>0</th>\n",
       "      <td>s1</td>\n",
       "      <td>Movie</td>\n",
       "      <td>Dick Johnson Is Dead</td>\n",
       "      <td>Kirsten Johnson</td>\n",
       "      <td>NaN</td>\n",
       "      <td>United States</td>\n",
       "      <td>September 25, 2021</td>\n",
       "      <td>2020</td>\n",
       "      <td>PG-13</td>\n",
       "      <td>90 min</td>\n",
       "      <td>Documentaries</td>\n",
       "      <td>As her father nears the end of his life, filmm...</td>\n",
       "      <td>September</td>\n",
       "    </tr>\n",
       "    <tr>\n",
       "      <th>1</th>\n",
       "      <td>s2</td>\n",
       "      <td>TV Show</td>\n",
       "      <td>Blood &amp; Water</td>\n",
       "      <td>NaN</td>\n",
       "      <td>Ama Qamata, Khosi Ngema, Gail Mabalane, Thaban...</td>\n",
       "      <td>South Africa</td>\n",
       "      <td>September 24, 2021</td>\n",
       "      <td>2021</td>\n",
       "      <td>TV-MA</td>\n",
       "      <td>2 Seasons</td>\n",
       "      <td>International TV Shows, TV Dramas, TV Mysteries</td>\n",
       "      <td>After crossing paths at a party, a Cape Town t...</td>\n",
       "      <td>September</td>\n",
       "    </tr>\n",
       "    <tr>\n",
       "      <th>2</th>\n",
       "      <td>s3</td>\n",
       "      <td>TV Show</td>\n",
       "      <td>Ganglands</td>\n",
       "      <td>Julien Leclercq</td>\n",
       "      <td>Sami Bouajila, Tracy Gotoas, Samuel Jouy, Nabi...</td>\n",
       "      <td>NaN</td>\n",
       "      <td>September 24, 2021</td>\n",
       "      <td>2021</td>\n",
       "      <td>TV-MA</td>\n",
       "      <td>1 Season</td>\n",
       "      <td>Crime TV Shows, International TV Shows, TV Act...</td>\n",
       "      <td>To protect his family from a powerful drug lor...</td>\n",
       "      <td>September</td>\n",
       "    </tr>\n",
       "    <tr>\n",
       "      <th>3</th>\n",
       "      <td>s4</td>\n",
       "      <td>TV Show</td>\n",
       "      <td>Jailbirds New Orleans</td>\n",
       "      <td>NaN</td>\n",
       "      <td>NaN</td>\n",
       "      <td>NaN</td>\n",
       "      <td>September 24, 2021</td>\n",
       "      <td>2021</td>\n",
       "      <td>TV-MA</td>\n",
       "      <td>1 Season</td>\n",
       "      <td>Docuseries, Reality TV</td>\n",
       "      <td>Feuds, flirtations and toilet talk go down amo...</td>\n",
       "      <td>September</td>\n",
       "    </tr>\n",
       "    <tr>\n",
       "      <th>4</th>\n",
       "      <td>s5</td>\n",
       "      <td>TV Show</td>\n",
       "      <td>Kota Factory</td>\n",
       "      <td>NaN</td>\n",
       "      <td>Mayur More, Jitendra Kumar, Ranjan Raj, Alam K...</td>\n",
       "      <td>India</td>\n",
       "      <td>September 24, 2021</td>\n",
       "      <td>2021</td>\n",
       "      <td>TV-MA</td>\n",
       "      <td>2 Seasons</td>\n",
       "      <td>International TV Shows, Romantic TV Shows, TV ...</td>\n",
       "      <td>In a city of coaching centers known to train I...</td>\n",
       "      <td>September</td>\n",
       "    </tr>\n",
       "    <tr>\n",
       "      <th>...</th>\n",
       "      <td>...</td>\n",
       "      <td>...</td>\n",
       "      <td>...</td>\n",
       "      <td>...</td>\n",
       "      <td>...</td>\n",
       "      <td>...</td>\n",
       "      <td>...</td>\n",
       "      <td>...</td>\n",
       "      <td>...</td>\n",
       "      <td>...</td>\n",
       "      <td>...</td>\n",
       "      <td>...</td>\n",
       "      <td>...</td>\n",
       "    </tr>\n",
       "    <tr>\n",
       "      <th>8802</th>\n",
       "      <td>s8803</td>\n",
       "      <td>Movie</td>\n",
       "      <td>Zodiac</td>\n",
       "      <td>David Fincher</td>\n",
       "      <td>Mark Ruffalo, Jake Gyllenhaal, Robert Downey J...</td>\n",
       "      <td>United States</td>\n",
       "      <td>November 20, 2019</td>\n",
       "      <td>2007</td>\n",
       "      <td>R</td>\n",
       "      <td>158 min</td>\n",
       "      <td>Cult Movies, Dramas, Thrillers</td>\n",
       "      <td>A political cartoonist, a crime reporter and a...</td>\n",
       "      <td>November</td>\n",
       "    </tr>\n",
       "    <tr>\n",
       "      <th>8803</th>\n",
       "      <td>s8804</td>\n",
       "      <td>TV Show</td>\n",
       "      <td>Zombie Dumb</td>\n",
       "      <td>NaN</td>\n",
       "      <td>NaN</td>\n",
       "      <td>NaN</td>\n",
       "      <td>July 1, 2019</td>\n",
       "      <td>2018</td>\n",
       "      <td>TV-Y7</td>\n",
       "      <td>2 Seasons</td>\n",
       "      <td>Kids' TV, Korean TV Shows, TV Comedies</td>\n",
       "      <td>While living alone in a spooky town, a young g...</td>\n",
       "      <td>July</td>\n",
       "    </tr>\n",
       "    <tr>\n",
       "      <th>8804</th>\n",
       "      <td>s8805</td>\n",
       "      <td>Movie</td>\n",
       "      <td>Zombieland</td>\n",
       "      <td>Ruben Fleischer</td>\n",
       "      <td>Jesse Eisenberg, Woody Harrelson, Emma Stone, ...</td>\n",
       "      <td>United States</td>\n",
       "      <td>November 1, 2019</td>\n",
       "      <td>2009</td>\n",
       "      <td>R</td>\n",
       "      <td>88 min</td>\n",
       "      <td>Comedies, Horror Movies</td>\n",
       "      <td>Looking to survive in a world taken over by zo...</td>\n",
       "      <td>November</td>\n",
       "    </tr>\n",
       "    <tr>\n",
       "      <th>8805</th>\n",
       "      <td>s8806</td>\n",
       "      <td>Movie</td>\n",
       "      <td>Zoom</td>\n",
       "      <td>Peter Hewitt</td>\n",
       "      <td>Tim Allen, Courteney Cox, Chevy Chase, Kate Ma...</td>\n",
       "      <td>United States</td>\n",
       "      <td>January 11, 2020</td>\n",
       "      <td>2006</td>\n",
       "      <td>PG</td>\n",
       "      <td>88 min</td>\n",
       "      <td>Children &amp; Family Movies, Comedies</td>\n",
       "      <td>Dragged from civilian life, a former superhero...</td>\n",
       "      <td>January</td>\n",
       "    </tr>\n",
       "    <tr>\n",
       "      <th>8806</th>\n",
       "      <td>s8807</td>\n",
       "      <td>Movie</td>\n",
       "      <td>Zubaan</td>\n",
       "      <td>Mozez Singh</td>\n",
       "      <td>Vicky Kaushal, Sarah-Jane Dias, Raaghav Chanan...</td>\n",
       "      <td>India</td>\n",
       "      <td>March 2, 2019</td>\n",
       "      <td>2015</td>\n",
       "      <td>TV-14</td>\n",
       "      <td>111 min</td>\n",
       "      <td>Dramas, International Movies, Music &amp; Musicals</td>\n",
       "      <td>A scrappy but poor boy worms his way into a ty...</td>\n",
       "      <td>March</td>\n",
       "    </tr>\n",
       "  </tbody>\n",
       "</table>\n",
       "<p>8807 rows × 13 columns</p>\n",
       "</div>"
      ],
      "text/plain": [
       "     show_id     type                  title         director  \\\n",
       "0         s1    Movie   Dick Johnson Is Dead  Kirsten Johnson   \n",
       "1         s2  TV Show          Blood & Water              NaN   \n",
       "2         s3  TV Show              Ganglands  Julien Leclercq   \n",
       "3         s4  TV Show  Jailbirds New Orleans              NaN   \n",
       "4         s5  TV Show           Kota Factory              NaN   \n",
       "...      ...      ...                    ...              ...   \n",
       "8802   s8803    Movie                 Zodiac    David Fincher   \n",
       "8803   s8804  TV Show            Zombie Dumb              NaN   \n",
       "8804   s8805    Movie             Zombieland  Ruben Fleischer   \n",
       "8805   s8806    Movie                   Zoom     Peter Hewitt   \n",
       "8806   s8807    Movie                 Zubaan      Mozez Singh   \n",
       "\n",
       "                                                   cast        country  \\\n",
       "0                                                   NaN  United States   \n",
       "1     Ama Qamata, Khosi Ngema, Gail Mabalane, Thaban...   South Africa   \n",
       "2     Sami Bouajila, Tracy Gotoas, Samuel Jouy, Nabi...            NaN   \n",
       "3                                                   NaN            NaN   \n",
       "4     Mayur More, Jitendra Kumar, Ranjan Raj, Alam K...          India   \n",
       "...                                                 ...            ...   \n",
       "8802  Mark Ruffalo, Jake Gyllenhaal, Robert Downey J...  United States   \n",
       "8803                                                NaN            NaN   \n",
       "8804  Jesse Eisenberg, Woody Harrelson, Emma Stone, ...  United States   \n",
       "8805  Tim Allen, Courteney Cox, Chevy Chase, Kate Ma...  United States   \n",
       "8806  Vicky Kaushal, Sarah-Jane Dias, Raaghav Chanan...          India   \n",
       "\n",
       "              date_added  release_year rating   duration  \\\n",
       "0     September 25, 2021          2020  PG-13     90 min   \n",
       "1     September 24, 2021          2021  TV-MA  2 Seasons   \n",
       "2     September 24, 2021          2021  TV-MA   1 Season   \n",
       "3     September 24, 2021          2021  TV-MA   1 Season   \n",
       "4     September 24, 2021          2021  TV-MA  2 Seasons   \n",
       "...                  ...           ...    ...        ...   \n",
       "8802   November 20, 2019          2007      R    158 min   \n",
       "8803        July 1, 2019          2018  TV-Y7  2 Seasons   \n",
       "8804    November 1, 2019          2009      R     88 min   \n",
       "8805    January 11, 2020          2006     PG     88 min   \n",
       "8806       March 2, 2019          2015  TV-14    111 min   \n",
       "\n",
       "                                              listed_in  \\\n",
       "0                                         Documentaries   \n",
       "1       International TV Shows, TV Dramas, TV Mysteries   \n",
       "2     Crime TV Shows, International TV Shows, TV Act...   \n",
       "3                                Docuseries, Reality TV   \n",
       "4     International TV Shows, Romantic TV Shows, TV ...   \n",
       "...                                                 ...   \n",
       "8802                     Cult Movies, Dramas, Thrillers   \n",
       "8803             Kids' TV, Korean TV Shows, TV Comedies   \n",
       "8804                            Comedies, Horror Movies   \n",
       "8805                 Children & Family Movies, Comedies   \n",
       "8806     Dramas, International Movies, Music & Musicals   \n",
       "\n",
       "                                            description      Month  \n",
       "0     As her father nears the end of his life, filmm...  September  \n",
       "1     After crossing paths at a party, a Cape Town t...  September  \n",
       "2     To protect his family from a powerful drug lor...  September  \n",
       "3     Feuds, flirtations and toilet talk go down amo...  September  \n",
       "4     In a city of coaching centers known to train I...  September  \n",
       "...                                                 ...        ...  \n",
       "8802  A political cartoonist, a crime reporter and a...   November  \n",
       "8803  While living alone in a spooky town, a young g...       July  \n",
       "8804  Looking to survive in a world taken over by zo...   November  \n",
       "8805  Dragged from civilian life, a former superhero...    January  \n",
       "8806  A scrappy but poor boy worms his way into a ty...      March  \n",
       "\n",
       "[8807 rows x 13 columns]"
      ]
     },
     "execution_count": 6,
     "metadata": {},
     "output_type": "execute_result"
    }
   ],
   "source": [
    "import re\n",
    "\n",
    "# Function to categorize items based on keywords\n",
    "def categorize_item(item):\n",
    "    if pd.isna(item):\n",
    "        return 'Unknown'\n",
    "\n",
    "    keywords = {\n",
    "        'January': ['Jan', 'January'],\n",
    "        'February': ['Feb', 'February'],\n",
    "        'March': ['Mar', 'March'],\n",
    "        'April': ['Apr', 'April'],\n",
    "        'May': ['May'],\n",
    "        'June': ['Jun', 'June'],\n",
    "        'July': ['Jul', 'July'],\n",
    "        'August': ['Aug', 'August'],\n",
    "        'September': ['Sep', 'September'],\n",
    "        'October': ['Oct', 'October'],\n",
    "        'November': ['Nov', 'November'],\n",
    "        'December': ['Dec', 'December'],\n",
    "    }\n",
    "\n",
    "    for category, category_keywords in keywords.items():\n",
    "        for keyword in category_keywords:\n",
    "            try:\n",
    "                if re.search(keyword, str(item), re.IGNORECASE):\n",
    "                    return category\n",
    "            except TypeError:\n",
    "                pass\n",
    "\n",
    "    return 'Unknown'\n",
    "\n",
    "# Apply categorization to each item in the 'date_added' column\n",
    "df['Month'] = df['date_added'].apply(categorize_item)\n",
    "\n",
    "# Display the updated DataFrame\n",
    "df"
   ]
  },
  {
   "cell_type": "code",
   "execution_count": 7,
   "metadata": {},
   "outputs": [
    {
     "data": {
      "text/html": [
       "<div>\n",
       "<style scoped>\n",
       "    .dataframe tbody tr th:only-of-type {\n",
       "        vertical-align: middle;\n",
       "    }\n",
       "\n",
       "    .dataframe tbody tr th {\n",
       "        vertical-align: top;\n",
       "    }\n",
       "\n",
       "    .dataframe thead th {\n",
       "        text-align: right;\n",
       "    }\n",
       "</style>\n",
       "<table border=\"1\" class=\"dataframe\">\n",
       "  <thead>\n",
       "    <tr style=\"text-align: right;\">\n",
       "      <th></th>\n",
       "      <th>show_id</th>\n",
       "      <th>type</th>\n",
       "      <th>title</th>\n",
       "      <th>director</th>\n",
       "      <th>cast</th>\n",
       "      <th>country</th>\n",
       "      <th>date_added</th>\n",
       "      <th>release_year</th>\n",
       "      <th>rating</th>\n",
       "      <th>duration</th>\n",
       "      <th>listed_in</th>\n",
       "      <th>description</th>\n",
       "      <th>Month</th>\n",
       "      <th>Decade</th>\n",
       "    </tr>\n",
       "  </thead>\n",
       "  <tbody>\n",
       "    <tr>\n",
       "      <th>0</th>\n",
       "      <td>s1</td>\n",
       "      <td>Movie</td>\n",
       "      <td>Dick Johnson Is Dead</td>\n",
       "      <td>Kirsten Johnson</td>\n",
       "      <td>NaN</td>\n",
       "      <td>United States</td>\n",
       "      <td>September 25, 2021</td>\n",
       "      <td>2020</td>\n",
       "      <td>PG-13</td>\n",
       "      <td>90 min</td>\n",
       "      <td>Documentaries</td>\n",
       "      <td>As her father nears the end of his life, filmm...</td>\n",
       "      <td>September</td>\n",
       "      <td>2020</td>\n",
       "    </tr>\n",
       "    <tr>\n",
       "      <th>1</th>\n",
       "      <td>s2</td>\n",
       "      <td>TV Show</td>\n",
       "      <td>Blood &amp; Water</td>\n",
       "      <td>NaN</td>\n",
       "      <td>Ama Qamata, Khosi Ngema, Gail Mabalane, Thaban...</td>\n",
       "      <td>South Africa</td>\n",
       "      <td>September 24, 2021</td>\n",
       "      <td>2021</td>\n",
       "      <td>TV-MA</td>\n",
       "      <td>2 Seasons</td>\n",
       "      <td>International TV Shows, TV Dramas, TV Mysteries</td>\n",
       "      <td>After crossing paths at a party, a Cape Town t...</td>\n",
       "      <td>September</td>\n",
       "      <td>2020</td>\n",
       "    </tr>\n",
       "    <tr>\n",
       "      <th>2</th>\n",
       "      <td>s3</td>\n",
       "      <td>TV Show</td>\n",
       "      <td>Ganglands</td>\n",
       "      <td>Julien Leclercq</td>\n",
       "      <td>Sami Bouajila, Tracy Gotoas, Samuel Jouy, Nabi...</td>\n",
       "      <td>NaN</td>\n",
       "      <td>September 24, 2021</td>\n",
       "      <td>2021</td>\n",
       "      <td>TV-MA</td>\n",
       "      <td>1 Season</td>\n",
       "      <td>Crime TV Shows, International TV Shows, TV Act...</td>\n",
       "      <td>To protect his family from a powerful drug lor...</td>\n",
       "      <td>September</td>\n",
       "      <td>2020</td>\n",
       "    </tr>\n",
       "    <tr>\n",
       "      <th>3</th>\n",
       "      <td>s4</td>\n",
       "      <td>TV Show</td>\n",
       "      <td>Jailbirds New Orleans</td>\n",
       "      <td>NaN</td>\n",
       "      <td>NaN</td>\n",
       "      <td>NaN</td>\n",
       "      <td>September 24, 2021</td>\n",
       "      <td>2021</td>\n",
       "      <td>TV-MA</td>\n",
       "      <td>1 Season</td>\n",
       "      <td>Docuseries, Reality TV</td>\n",
       "      <td>Feuds, flirtations and toilet talk go down amo...</td>\n",
       "      <td>September</td>\n",
       "      <td>2020</td>\n",
       "    </tr>\n",
       "    <tr>\n",
       "      <th>4</th>\n",
       "      <td>s5</td>\n",
       "      <td>TV Show</td>\n",
       "      <td>Kota Factory</td>\n",
       "      <td>NaN</td>\n",
       "      <td>Mayur More, Jitendra Kumar, Ranjan Raj, Alam K...</td>\n",
       "      <td>India</td>\n",
       "      <td>September 24, 2021</td>\n",
       "      <td>2021</td>\n",
       "      <td>TV-MA</td>\n",
       "      <td>2 Seasons</td>\n",
       "      <td>International TV Shows, Romantic TV Shows, TV ...</td>\n",
       "      <td>In a city of coaching centers known to train I...</td>\n",
       "      <td>September</td>\n",
       "      <td>2020</td>\n",
       "    </tr>\n",
       "    <tr>\n",
       "      <th>...</th>\n",
       "      <td>...</td>\n",
       "      <td>...</td>\n",
       "      <td>...</td>\n",
       "      <td>...</td>\n",
       "      <td>...</td>\n",
       "      <td>...</td>\n",
       "      <td>...</td>\n",
       "      <td>...</td>\n",
       "      <td>...</td>\n",
       "      <td>...</td>\n",
       "      <td>...</td>\n",
       "      <td>...</td>\n",
       "      <td>...</td>\n",
       "      <td>...</td>\n",
       "    </tr>\n",
       "    <tr>\n",
       "      <th>8802</th>\n",
       "      <td>s8803</td>\n",
       "      <td>Movie</td>\n",
       "      <td>Zodiac</td>\n",
       "      <td>David Fincher</td>\n",
       "      <td>Mark Ruffalo, Jake Gyllenhaal, Robert Downey J...</td>\n",
       "      <td>United States</td>\n",
       "      <td>November 20, 2019</td>\n",
       "      <td>2007</td>\n",
       "      <td>R</td>\n",
       "      <td>158 min</td>\n",
       "      <td>Cult Movies, Dramas, Thrillers</td>\n",
       "      <td>A political cartoonist, a crime reporter and a...</td>\n",
       "      <td>November</td>\n",
       "      <td>2000</td>\n",
       "    </tr>\n",
       "    <tr>\n",
       "      <th>8803</th>\n",
       "      <td>s8804</td>\n",
       "      <td>TV Show</td>\n",
       "      <td>Zombie Dumb</td>\n",
       "      <td>NaN</td>\n",
       "      <td>NaN</td>\n",
       "      <td>NaN</td>\n",
       "      <td>July 1, 2019</td>\n",
       "      <td>2018</td>\n",
       "      <td>TV-Y7</td>\n",
       "      <td>2 Seasons</td>\n",
       "      <td>Kids' TV, Korean TV Shows, TV Comedies</td>\n",
       "      <td>While living alone in a spooky town, a young g...</td>\n",
       "      <td>July</td>\n",
       "      <td>2010</td>\n",
       "    </tr>\n",
       "    <tr>\n",
       "      <th>8804</th>\n",
       "      <td>s8805</td>\n",
       "      <td>Movie</td>\n",
       "      <td>Zombieland</td>\n",
       "      <td>Ruben Fleischer</td>\n",
       "      <td>Jesse Eisenberg, Woody Harrelson, Emma Stone, ...</td>\n",
       "      <td>United States</td>\n",
       "      <td>November 1, 2019</td>\n",
       "      <td>2009</td>\n",
       "      <td>R</td>\n",
       "      <td>88 min</td>\n",
       "      <td>Comedies, Horror Movies</td>\n",
       "      <td>Looking to survive in a world taken over by zo...</td>\n",
       "      <td>November</td>\n",
       "      <td>2000</td>\n",
       "    </tr>\n",
       "    <tr>\n",
       "      <th>8805</th>\n",
       "      <td>s8806</td>\n",
       "      <td>Movie</td>\n",
       "      <td>Zoom</td>\n",
       "      <td>Peter Hewitt</td>\n",
       "      <td>Tim Allen, Courteney Cox, Chevy Chase, Kate Ma...</td>\n",
       "      <td>United States</td>\n",
       "      <td>January 11, 2020</td>\n",
       "      <td>2006</td>\n",
       "      <td>PG</td>\n",
       "      <td>88 min</td>\n",
       "      <td>Children &amp; Family Movies, Comedies</td>\n",
       "      <td>Dragged from civilian life, a former superhero...</td>\n",
       "      <td>January</td>\n",
       "      <td>2000</td>\n",
       "    </tr>\n",
       "    <tr>\n",
       "      <th>8806</th>\n",
       "      <td>s8807</td>\n",
       "      <td>Movie</td>\n",
       "      <td>Zubaan</td>\n",
       "      <td>Mozez Singh</td>\n",
       "      <td>Vicky Kaushal, Sarah-Jane Dias, Raaghav Chanan...</td>\n",
       "      <td>India</td>\n",
       "      <td>March 2, 2019</td>\n",
       "      <td>2015</td>\n",
       "      <td>TV-14</td>\n",
       "      <td>111 min</td>\n",
       "      <td>Dramas, International Movies, Music &amp; Musicals</td>\n",
       "      <td>A scrappy but poor boy worms his way into a ty...</td>\n",
       "      <td>March</td>\n",
       "      <td>2010</td>\n",
       "    </tr>\n",
       "  </tbody>\n",
       "</table>\n",
       "<p>8807 rows × 14 columns</p>\n",
       "</div>"
      ],
      "text/plain": [
       "     show_id     type                  title         director  \\\n",
       "0         s1    Movie   Dick Johnson Is Dead  Kirsten Johnson   \n",
       "1         s2  TV Show          Blood & Water              NaN   \n",
       "2         s3  TV Show              Ganglands  Julien Leclercq   \n",
       "3         s4  TV Show  Jailbirds New Orleans              NaN   \n",
       "4         s5  TV Show           Kota Factory              NaN   \n",
       "...      ...      ...                    ...              ...   \n",
       "8802   s8803    Movie                 Zodiac    David Fincher   \n",
       "8803   s8804  TV Show            Zombie Dumb              NaN   \n",
       "8804   s8805    Movie             Zombieland  Ruben Fleischer   \n",
       "8805   s8806    Movie                   Zoom     Peter Hewitt   \n",
       "8806   s8807    Movie                 Zubaan      Mozez Singh   \n",
       "\n",
       "                                                   cast        country  \\\n",
       "0                                                   NaN  United States   \n",
       "1     Ama Qamata, Khosi Ngema, Gail Mabalane, Thaban...   South Africa   \n",
       "2     Sami Bouajila, Tracy Gotoas, Samuel Jouy, Nabi...            NaN   \n",
       "3                                                   NaN            NaN   \n",
       "4     Mayur More, Jitendra Kumar, Ranjan Raj, Alam K...          India   \n",
       "...                                                 ...            ...   \n",
       "8802  Mark Ruffalo, Jake Gyllenhaal, Robert Downey J...  United States   \n",
       "8803                                                NaN            NaN   \n",
       "8804  Jesse Eisenberg, Woody Harrelson, Emma Stone, ...  United States   \n",
       "8805  Tim Allen, Courteney Cox, Chevy Chase, Kate Ma...  United States   \n",
       "8806  Vicky Kaushal, Sarah-Jane Dias, Raaghav Chanan...          India   \n",
       "\n",
       "              date_added  release_year rating   duration  \\\n",
       "0     September 25, 2021          2020  PG-13     90 min   \n",
       "1     September 24, 2021          2021  TV-MA  2 Seasons   \n",
       "2     September 24, 2021          2021  TV-MA   1 Season   \n",
       "3     September 24, 2021          2021  TV-MA   1 Season   \n",
       "4     September 24, 2021          2021  TV-MA  2 Seasons   \n",
       "...                  ...           ...    ...        ...   \n",
       "8802   November 20, 2019          2007      R    158 min   \n",
       "8803        July 1, 2019          2018  TV-Y7  2 Seasons   \n",
       "8804    November 1, 2019          2009      R     88 min   \n",
       "8805    January 11, 2020          2006     PG     88 min   \n",
       "8806       March 2, 2019          2015  TV-14    111 min   \n",
       "\n",
       "                                              listed_in  \\\n",
       "0                                         Documentaries   \n",
       "1       International TV Shows, TV Dramas, TV Mysteries   \n",
       "2     Crime TV Shows, International TV Shows, TV Act...   \n",
       "3                                Docuseries, Reality TV   \n",
       "4     International TV Shows, Romantic TV Shows, TV ...   \n",
       "...                                                 ...   \n",
       "8802                     Cult Movies, Dramas, Thrillers   \n",
       "8803             Kids' TV, Korean TV Shows, TV Comedies   \n",
       "8804                            Comedies, Horror Movies   \n",
       "8805                 Children & Family Movies, Comedies   \n",
       "8806     Dramas, International Movies, Music & Musicals   \n",
       "\n",
       "                                            description      Month  Decade  \n",
       "0     As her father nears the end of his life, filmm...  September    2020  \n",
       "1     After crossing paths at a party, a Cape Town t...  September    2020  \n",
       "2     To protect his family from a powerful drug lor...  September    2020  \n",
       "3     Feuds, flirtations and toilet talk go down amo...  September    2020  \n",
       "4     In a city of coaching centers known to train I...  September    2020  \n",
       "...                                                 ...        ...     ...  \n",
       "8802  A political cartoonist, a crime reporter and a...   November    2000  \n",
       "8803  While living alone in a spooky town, a young g...       July    2010  \n",
       "8804  Looking to survive in a world taken over by zo...   November    2000  \n",
       "8805  Dragged from civilian life, a former superhero...    January    2000  \n",
       "8806  A scrappy but poor boy worms his way into a ty...      March    2010  \n",
       "\n",
       "[8807 rows x 14 columns]"
      ]
     },
     "execution_count": 7,
     "metadata": {},
     "output_type": "execute_result"
    }
   ],
   "source": [
    "df['Decade'] = (df['release_year'] // 10) * 10 \n",
    "df"
   ]
  },
  {
   "cell_type": "code",
   "execution_count": null,
   "metadata": {},
   "outputs": [],
   "source": []
  },
  {
   "cell_type": "code",
   "execution_count": 8,
   "metadata": {
    "execution": {
     "iopub.execute_input": "2022-09-23T15:08:12.503003Z",
     "iopub.status.busy": "2022-09-23T15:08:12.502460Z",
     "iopub.status.idle": "2022-09-23T15:08:12.533820Z",
     "shell.execute_reply": "2022-09-23T15:08:12.532261Z",
     "shell.execute_reply.started": "2022-09-23T15:08:12.502953Z"
    },
    "id": "WXQft3gdb6-2",
    "outputId": "91f2b989-4366-461b-eec1-6c22f47643da"
   },
   "outputs": [
    {
     "data": {
      "text/plain": [
       "show_id         8807\n",
       "type               2\n",
       "title           8807\n",
       "director        4528\n",
       "cast            7692\n",
       "country          748\n",
       "date_added      1767\n",
       "release_year      74\n",
       "rating            17\n",
       "duration         220\n",
       "listed_in        514\n",
       "description     8775\n",
       "Month             13\n",
       "Decade            10\n",
       "dtype: int64"
      ]
     },
     "execution_count": 8,
     "metadata": {},
     "output_type": "execute_result"
    }
   ],
   "source": [
    "# unique values in each column\n",
    "df.nunique()"
   ]
  },
  {
   "cell_type": "markdown",
   "metadata": {
    "id": "6nBMRDC8UDF1"
   },
   "source": [
    "## <b> 3.1. Attribute Information </b>\n",
    "1. **show_id** : Unique ID for every Movie / Tv Show\n",
    "2. **type** : Identifier - A Movie or TV Show\n",
    "3. **title** : Title of the Movie / Tv Show\n",
    "4. **director** : Director of the Movie\n",
    "5. **cast** : Actors involved in the movie / show\n",
    "6. **country** : Country where the movie / show was produced\n",
    "7. **date_added** : Date it was added on Netflix\n",
    "8. **release_year** : Actual Releaseyear of the movie / show\n",
    "9. **rating** : TV Rating of the movie / show\n",
    "10. **duration** : Total Duration - in minutes or number of seasons\n",
    "11. **listed_in** : Genre\n",
    "12. **description**: The Summary description"
   ]
  },
  {
   "cell_type": "markdown",
   "metadata": {
    "id": "5wSvNu-aZDiD"
   },
   "source": [
    "# **4. Cleaning data:**"
   ]
  },
  {
   "cell_type": "markdown",
   "metadata": {
    "id": "S9Fr8XXXeedu"
   },
   "source": [
    "## **4.1. Checking for duplicate records:**"
   ]
  },
  {
   "cell_type": "code",
   "execution_count": 9,
   "metadata": {
    "execution": {
     "iopub.execute_input": "2022-09-23T15:08:13.620259Z",
     "iopub.status.busy": "2022-09-23T15:08:13.619808Z",
     "iopub.status.idle": "2022-09-23T15:08:13.648994Z",
     "shell.execute_reply": "2022-09-23T15:08:13.647718Z",
     "shell.execute_reply.started": "2022-09-23T15:08:13.620224Z"
    },
    "id": "EWevxDFEYvmk",
    "outputId": "be87c72b-336a-43dc-9f3d-bcf4589957aa"
   },
   "outputs": [
    {
     "data": {
      "text/plain": [
       "False    8807\n",
       "dtype: int64"
      ]
     },
     "execution_count": 9,
     "metadata": {},
     "output_type": "execute_result"
    }
   ],
   "source": [
    "# Checking for duplicate records\n",
    "df.duplicated().value_counts()"
   ]
  },
  {
   "cell_type": "markdown",
   "metadata": {
    "id": "UAYnW7dWfNzn"
   },
   "source": [
    "**There are no duplicated records in the dataset.**"
   ]
  },
  {
   "cell_type": "markdown",
   "metadata": {
    "id": "jjKIVCSeZ6ea"
   },
   "source": [
    "## **4.2. Checking for missing values and handling them:**"
   ]
  },
  {
   "cell_type": "code",
   "execution_count": 10,
   "metadata": {
    "execution": {
     "iopub.execute_input": "2022-09-23T15:08:14.917754Z",
     "iopub.status.busy": "2022-09-23T15:08:14.917375Z",
     "iopub.status.idle": "2022-09-23T15:08:14.933973Z",
     "shell.execute_reply": "2022-09-23T15:08:14.932504Z",
     "shell.execute_reply.started": "2022-09-23T15:08:14.917722Z"
    },
    "id": "G9-NxldSZ9q1",
    "outputId": "1617a529-09d7-492a-f77a-0cc7ff85dcf2"
   },
   "outputs": [
    {
     "data": {
      "text/plain": [
       "show_id            0\n",
       "type               0\n",
       "title              0\n",
       "director        2634\n",
       "cast             825\n",
       "country          831\n",
       "date_added        10\n",
       "release_year       0\n",
       "rating             4\n",
       "duration           3\n",
       "listed_in          0\n",
       "description        0\n",
       "Month              0\n",
       "Decade             0\n",
       "dtype: int64"
      ]
     },
     "execution_count": 10,
     "metadata": {},
     "output_type": "execute_result"
    }
   ],
   "source": [
    "# Missing values in the dataset\n",
    "df.isna().sum()"
   ]
  },
  {
   "cell_type": "markdown",
   "metadata": {
    "id": "9wk3KlT50mwR"
   },
   "source": [
    "**There are many missing values in director, cast, country, date_added, and rating columns.**"
   ]
  },
  {
   "cell_type": "code",
   "execution_count": 11,
   "metadata": {
    "execution": {
     "iopub.execute_input": "2022-09-23T15:08:15.256022Z",
     "iopub.status.busy": "2022-09-23T15:08:15.255562Z",
     "iopub.status.idle": "2022-09-23T15:08:15.284708Z",
     "shell.execute_reply": "2022-09-23T15:08:15.283271Z",
     "shell.execute_reply.started": "2022-09-23T15:08:15.255984Z"
    },
    "id": "KJoiS0ZSalFp",
    "outputId": "cf6db2c3-bc40-41a1-db55-8a51232e2cd4"
   },
   "outputs": [
    {
     "data": {
      "text/plain": [
       "show_id         8807\n",
       "type               2\n",
       "title           8807\n",
       "director        4528\n",
       "cast            7692\n",
       "country          748\n",
       "date_added      1767\n",
       "release_year      74\n",
       "rating            17\n",
       "duration         220\n",
       "listed_in        514\n",
       "description     8775\n",
       "Month             13\n",
       "Decade            10\n",
       "dtype: int64"
      ]
     },
     "execution_count": 11,
     "metadata": {},
     "output_type": "execute_result"
    }
   ],
   "source": [
    "# Checking the unique values in each attribute of the dataset\n",
    "df.nunique()"
   ]
  },
  {
   "cell_type": "markdown",
   "metadata": {
    "id": "XXenG42rXdI7"
   },
   "source": [
    "* The missing values in the director, cast, and country attributes can be replaced with 'Unknown'\n",
    "* 10 records with missing values in the date_added column can be dropped.\n",
    "* The missing values in rating can be imputed with its mode, since this attribute is discrete."
   ]
  },
  {
   "cell_type": "code",
   "execution_count": 12,
   "metadata": {
    "execution": {
     "iopub.execute_input": "2022-09-23T15:08:15.693146Z",
     "iopub.status.busy": "2022-09-23T15:08:15.692595Z",
     "iopub.status.idle": "2022-09-23T15:08:15.720380Z",
     "shell.execute_reply": "2022-09-23T15:08:15.719312Z",
     "shell.execute_reply.started": "2022-09-23T15:08:15.693099Z"
    },
    "id": "fFKtk5E1k8BM"
   },
   "outputs": [],
   "source": [
    "# Handling the missing values\n",
    "df[['director','cast','country']] = df[['director','cast','country']].fillna('Unknown')\n",
    "df['rating'] = df['rating'].fillna(df['rating'].mode()[0])\n",
    "df.dropna(axis=0, inplace = True)"
   ]
  },
  {
   "cell_type": "code",
   "execution_count": 13,
   "metadata": {
    "execution": {
     "iopub.execute_input": "2022-09-23T15:08:15.885992Z",
     "iopub.status.busy": "2022-09-23T15:08:15.885323Z",
     "iopub.status.idle": "2022-09-23T15:08:15.895991Z",
     "shell.execute_reply": "2022-09-23T15:08:15.894631Z",
     "shell.execute_reply.started": "2022-09-23T15:08:15.885953Z"
    },
    "id": "wynwIrZPhnj8",
    "outputId": "5ce76121-6018-47bb-bbb4-96bc1929f26e"
   },
   "outputs": [
    {
     "data": {
      "text/plain": [
       "(8794, 14)"
      ]
     },
     "execution_count": 13,
     "metadata": {},
     "output_type": "execute_result"
    }
   ],
   "source": [
    "df.shape"
   ]
  },
  {
   "cell_type": "markdown",
   "metadata": {
    "id": "UPm81dr_rb12"
   },
   "source": [
    "We have successfully handled all the missing values in the dataset."
   ]
  },
  {
   "cell_type": "markdown",
   "metadata": {
    "id": "g6zzm485rsDZ"
   },
   "source": [
    "## **4.3. Country, listed_in:**"
   ]
  },
  {
   "cell_type": "code",
   "execution_count": 14,
   "metadata": {
    "execution": {
     "iopub.execute_input": "2022-09-23T15:08:16.501728Z",
     "iopub.status.busy": "2022-09-23T15:08:16.500946Z",
     "iopub.status.idle": "2022-09-23T15:08:16.514289Z",
     "shell.execute_reply": "2022-09-23T15:08:16.512781Z",
     "shell.execute_reply.started": "2022-09-23T15:08:16.501683Z"
    },
    "id": "QiPz_S61iN7b",
    "outputId": "5c6f2186-07d5-41f2-ea2b-40d5ca61e680"
   },
   "outputs": [
    {
     "data": {
      "text/plain": [
       "United States                             2809\n",
       "India                                      972\n",
       "Unknown                                    830\n",
       "United Kingdom                             418\n",
       "Japan                                      244\n",
       "                                          ... \n",
       "Romania, Bulgaria, Hungary                   1\n",
       "Uruguay, Guatemala                           1\n",
       "France, Senegal, Belgium                     1\n",
       "Mexico, United States, Spain, Colombia       1\n",
       "United Arab Emirates, Jordan                 1\n",
       "Name: country, Length: 749, dtype: int64"
      ]
     },
     "execution_count": 14,
     "metadata": {},
     "output_type": "execute_result"
    }
   ],
   "source": [
    "# Top countries\n",
    "df.country.value_counts()"
   ]
  },
  {
   "cell_type": "code",
   "execution_count": 15,
   "metadata": {
    "execution": {
     "iopub.execute_input": "2022-09-23T15:08:16.692680Z",
     "iopub.status.busy": "2022-09-23T15:08:16.692208Z",
     "iopub.status.idle": "2022-09-23T15:08:16.704405Z",
     "shell.execute_reply": "2022-09-23T15:08:16.703013Z",
     "shell.execute_reply.started": "2022-09-23T15:08:16.692637Z"
    },
    "id": "fFRRhO_S1m-O",
    "outputId": "dce66261-ed6b-488e-8c2d-882c9b2b8a4d"
   },
   "outputs": [
    {
     "data": {
      "text/plain": [
       "Dramas, International Movies                                   362\n",
       "Documentaries                                                  359\n",
       "Stand-Up Comedy                                                334\n",
       "Comedies, Dramas, International Movies                         274\n",
       "Dramas, Independent Movies, International Movies               252\n",
       "                                                              ... \n",
       "Crime TV Shows, International TV Shows, TV Sci-Fi & Fantasy      1\n",
       "International TV Shows, TV Horror, TV Sci-Fi & Fantasy           1\n",
       "Crime TV Shows, Kids' TV                                         1\n",
       "Horror Movies, International Movies, Sci-Fi & Fantasy            1\n",
       "Cult Movies, Dramas, Thrillers                                   1\n",
       "Name: listed_in, Length: 513, dtype: int64"
      ]
     },
     "execution_count": 15,
     "metadata": {},
     "output_type": "execute_result"
    }
   ],
   "source": [
    "# Genre of shows\n",
    "df.listed_in.value_counts()"
   ]
  },
  {
   "cell_type": "markdown",
   "metadata": {
    "id": "hqLIJmHIvUAD"
   },
   "source": [
    "* There are some movies / TV shows that were filmed in multiple countries, have multiple genres associated with it.\n",
    "* To simplify the analysis, let's consider only the primary country where that respective movie / TV show was filmed.\n",
    "* Also, let's consider only the primary genre of the respective movie / TV show."
   ]
  },
  {
   "cell_type": "code",
   "execution_count": 16,
   "metadata": {
    "execution": {
     "iopub.execute_input": "2022-09-23T15:08:17.156493Z",
     "iopub.status.busy": "2022-09-23T15:08:17.155609Z",
     "iopub.status.idle": "2022-09-23T15:08:17.171343Z",
     "shell.execute_reply": "2022-09-23T15:08:17.169946Z",
     "shell.execute_reply.started": "2022-09-23T15:08:17.156410Z"
    },
    "id": "w_WTq1fTr-GB"
   },
   "outputs": [],
   "source": [
    "# Choosing the primary country and primary genre to simplify the analysis\n",
    "df['country'] = df['country'].apply(lambda x: x.split(',')[0])\n",
    "df['listed_in'] = df['listed_in'].apply(lambda x: x.split(',')[0])"
   ]
  },
  {
   "cell_type": "code",
   "execution_count": 17,
   "metadata": {
    "execution": {
     "iopub.execute_input": "2022-09-23T15:08:17.351072Z",
     "iopub.status.busy": "2022-09-23T15:08:17.350427Z",
     "iopub.status.idle": "2022-09-23T15:08:17.361214Z",
     "shell.execute_reply": "2022-09-23T15:08:17.359849Z",
     "shell.execute_reply.started": "2022-09-23T15:08:17.351022Z"
    },
    "id": "QinWCodj09kQ",
    "outputId": "7f6fca57-9c57-49e6-fb8e-a3446be3f04d"
   },
   "outputs": [
    {
     "data": {
      "text/plain": [
       "United States     3202\n",
       "India             1008\n",
       "Unknown            830\n",
       "United Kingdom     627\n",
       "Canada             271\n",
       "                  ... \n",
       "Namibia              1\n",
       "Senegal              1\n",
       "Luxembourg           1\n",
       "Syria                1\n",
       "Somalia              1\n",
       "Name: country, Length: 87, dtype: int64"
      ]
     },
     "execution_count": 17,
     "metadata": {},
     "output_type": "execute_result"
    }
   ],
   "source": [
    "# contry in which a movie was produced\n",
    "df.country.value_counts()"
   ]
  },
  {
   "cell_type": "code",
   "execution_count": 18,
   "metadata": {
    "execution": {
     "iopub.execute_input": "2022-09-23T15:08:17.582131Z",
     "iopub.status.busy": "2022-09-23T15:08:17.581655Z",
     "iopub.status.idle": "2022-09-23T15:08:17.594447Z",
     "shell.execute_reply": "2022-09-23T15:08:17.592687Z",
     "shell.execute_reply.started": "2022-09-23T15:08:17.582093Z"
    },
    "id": "0EbUGyHowyne",
    "outputId": "f33c0ef5-df37-4719-9a52-c688adb7ddca"
   },
   "outputs": [
    {
     "data": {
      "text/plain": [
       "Dramas                          1600\n",
       "Comedies                        1210\n",
       "Action & Adventure               859\n",
       "Documentaries                    829\n",
       "International TV Shows           773\n",
       "Children & Family Movies         605\n",
       "Crime TV Shows                   399\n",
       "Kids' TV                         386\n",
       "Stand-Up Comedy                  334\n",
       "Horror Movies                    275\n",
       "British TV Shows                 252\n",
       "Docuseries                       220\n",
       "Anime Series                     175\n",
       "International Movies             128\n",
       "Reality TV                       120\n",
       "TV Comedies                      119\n",
       "Classic Movies                    80\n",
       "TV Dramas                         67\n",
       "Thrillers                         65\n",
       "Movies                            54\n",
       "TV Action & Adventure             39\n",
       "Stand-Up Comedy & Talk Shows      34\n",
       "Romantic TV Shows                 32\n",
       "Anime Features                    21\n",
       "Independent Movies                20\n",
       "Classic & Cult TV                 20\n",
       "Music & Musicals                  18\n",
       "TV Shows                          16\n",
       "Sci-Fi & Fantasy                  13\n",
       "Cult Movies                       12\n",
       "TV Horror                         11\n",
       "Romantic Movies                    3\n",
       "Spanish-Language TV Shows          2\n",
       "LGBTQ Movies                       1\n",
       "TV Sci-Fi & Fantasy                1\n",
       "Sports Movies                      1\n",
       "Name: listed_in, dtype: int64"
      ]
     },
     "execution_count": 18,
     "metadata": {},
     "output_type": "execute_result"
    }
   ],
   "source": [
    "# genre of shows\n",
    "df.listed_in.value_counts()"
   ]
  },
  {
   "cell_type": "markdown",
   "metadata": {
    "id": "fP-WXlpr4Upg"
   },
   "source": [
    "## **4.4. Typecasting 'duration' from string to integer**"
   ]
  },
  {
   "cell_type": "code",
   "execution_count": 19,
   "metadata": {
    "execution": {
     "iopub.execute_input": "2022-09-23T15:08:18.022989Z",
     "iopub.status.busy": "2022-09-23T15:08:18.022570Z",
     "iopub.status.idle": "2022-09-23T15:08:18.039069Z",
     "shell.execute_reply": "2022-09-23T15:08:18.037410Z",
     "shell.execute_reply.started": "2022-09-23T15:08:18.022954Z"
    },
    "id": "fCuFlRCG4pVh"
   },
   "outputs": [],
   "source": [
    "# Splitting the duration column, and changing the datatype to integer\n",
    "df['duration'] = df['duration'].apply(lambda x: int(x.split()[0]))"
   ]
  },
  {
   "cell_type": "code",
   "execution_count": 20,
   "metadata": {
    "execution": {
     "iopub.execute_input": "2022-09-23T15:08:18.242751Z",
     "iopub.status.busy": "2022-09-23T15:08:18.241996Z",
     "iopub.status.idle": "2022-09-23T15:08:18.254846Z",
     "shell.execute_reply": "2022-09-23T15:08:18.253769Z",
     "shell.execute_reply.started": "2022-09-23T15:08:18.242708Z"
    },
    "id": "Z5cMFHl9yS8K",
    "outputId": "6b9a8719-b428-4dff-fc20-9284d44795f8"
   },
   "outputs": [
    {
     "data": {
      "text/plain": [
       "1     1793\n",
       "2      421\n",
       "3      198\n",
       "4       94\n",
       "5       64\n",
       "6       33\n",
       "7       23\n",
       "8       17\n",
       "9        9\n",
       "10       6\n",
       "13       2\n",
       "15       2\n",
       "12       2\n",
       "17       1\n",
       "11       1\n",
       "Name: duration, dtype: int64"
      ]
     },
     "execution_count": 20,
     "metadata": {},
     "output_type": "execute_result"
    }
   ],
   "source": [
    "# Number of seasons for tv shows\n",
    "df[df['type']=='TV Show'].duration.value_counts()"
   ]
  },
  {
   "cell_type": "code",
   "execution_count": 21,
   "metadata": {
    "execution": {
     "iopub.execute_input": "2022-09-23T15:08:18.466018Z",
     "iopub.status.busy": "2022-09-23T15:08:18.465243Z",
     "iopub.status.idle": "2022-09-23T15:08:18.478369Z",
     "shell.execute_reply": "2022-09-23T15:08:18.476824Z",
     "shell.execute_reply.started": "2022-09-23T15:08:18.465972Z"
    },
    "id": "AHHKkjoQykr3",
    "outputId": "829d7c3a-4d3e-40ad-fc61-677a31d2babb"
   },
   "outputs": [
    {
     "data": {
      "text/plain": [
       "array([ 90,  91, 125, 104, 127,  67,  94, 161,  61, 166, 147, 103,  97,\n",
       "       106, 111, 110, 105,  96, 124, 116,  98,  23, 115, 122,  99,  88,\n",
       "       100, 102,  93,  95,  85,  83, 113,  13, 182,  48, 145,  87,  92,\n",
       "        80, 117, 128, 119, 143, 114, 118, 108,  63, 121, 142, 154, 120,\n",
       "        82, 109, 101,  86, 229,  76,  89, 156, 112, 107, 129, 135, 136,\n",
       "       165, 150, 133,  70,  84, 140,  78,  64,  59, 139,  69, 148, 189,\n",
       "       141, 130, 138,  81, 132, 123,  65,  68,  66,  62,  74, 131,  39,\n",
       "        46,  38, 126, 155, 159, 137,  12, 273,  36,  34,  77,  60,  49,\n",
       "        58,  72, 204, 212,  25,  73,  29,  47,  32,  35,  71, 149,  33,\n",
       "        15,  54, 224, 162,  37,  75,  79,  55, 158, 164, 173, 181, 185,\n",
       "        21,  24,  51, 151,  42,  22, 134, 177,  52,  14,  53,   8,  57,\n",
       "        28,  50,   9,  26,  45, 171,  27,  44, 146,  20, 157,  17, 203,\n",
       "        41,  30, 194, 233, 237, 230, 195, 253, 152, 190, 160, 208, 180,\n",
       "       144,   5, 174, 170, 192, 209, 187, 172,  16, 186,  11, 193, 176,\n",
       "        56, 169,  40,  10,   3, 168, 312, 153, 214,  31, 163,  19, 179,\n",
       "        43, 200, 196, 167, 178, 228,  18, 205, 201, 191], dtype=int64)"
      ]
     },
     "execution_count": 21,
     "metadata": {},
     "output_type": "execute_result"
    }
   ],
   "source": [
    "# Movie length in minutes\n",
    "df[df['type']=='Movie'].duration.unique()"
   ]
  },
  {
   "cell_type": "code",
   "execution_count": 22,
   "metadata": {
    "execution": {
     "iopub.execute_input": "2022-09-23T15:08:18.762720Z",
     "iopub.status.busy": "2022-09-23T15:08:18.762301Z",
     "iopub.status.idle": "2022-09-23T15:08:18.771820Z",
     "shell.execute_reply": "2022-09-23T15:08:18.769948Z",
     "shell.execute_reply.started": "2022-09-23T15:08:18.762685Z"
    },
    "id": "uQg22j9tyqy-",
    "outputId": "33a0d669-5f00-453c-b7b4-ba14511020d6"
   },
   "outputs": [
    {
     "data": {
      "text/plain": [
       "dtype('int64')"
      ]
     },
     "execution_count": 22,
     "metadata": {},
     "output_type": "execute_result"
    }
   ],
   "source": [
    "# datatype of duration\n",
    "df.duration.dtype"
   ]
  },
  {
   "cell_type": "markdown",
   "metadata": {
    "id": "DewSQQ8c53BW"
   },
   "source": [
    "We have successfully converted the datatype of duration column to int."
   ]
  },
  {
   "cell_type": "markdown",
   "metadata": {
    "id": "NZPKopeX6sbn"
   },
   "source": [
    "## **4.5. Typecasting 'date_added' from string to datetime:**"
   ]
  },
  {
   "cell_type": "code",
   "execution_count": 23,
   "metadata": {
    "execution": {
     "iopub.execute_input": "2022-09-23T15:08:19.306947Z",
     "iopub.status.busy": "2022-09-23T15:08:19.306530Z",
     "iopub.status.idle": "2022-09-23T15:08:19.503115Z",
     "shell.execute_reply": "2022-09-23T15:08:19.501672Z",
     "shell.execute_reply.started": "2022-09-23T15:08:19.306913Z"
    },
    "id": "P8R0iS-SFsvF"
   },
   "outputs": [],
   "source": [
    "# Typecasting 'date_added' from string to datetime\n",
    "df[\"date_added\"] = pd.to_datetime(df['date_added'])"
   ]
  },
  {
   "cell_type": "code",
   "execution_count": 24,
   "metadata": {
    "execution": {
     "iopub.execute_input": "2022-09-23T15:08:19.531647Z",
     "iopub.status.busy": "2022-09-23T15:08:19.531234Z",
     "iopub.status.idle": "2022-09-23T15:08:19.542196Z",
     "shell.execute_reply": "2022-09-23T15:08:19.540849Z",
     "shell.execute_reply.started": "2022-09-23T15:08:19.531614Z"
    },
    "id": "Z1NJR9xSF4M2",
    "outputId": "9e4223ee-c755-4c5d-e99e-74e83fe45133"
   },
   "outputs": [
    {
     "data": {
      "text/plain": [
       "(Timestamp('2008-01-01 00:00:00'), Timestamp('2021-09-25 00:00:00'))"
      ]
     },
     "execution_count": 24,
     "metadata": {},
     "output_type": "execute_result"
    }
   ],
   "source": [
    "# first and last date on which a show was added on Netflix\n",
    "df.date_added.min(),df.date_added.max()"
   ]
  },
  {
   "cell_type": "markdown",
   "metadata": {
    "id": "dwZeg0FhGDrV"
   },
   "source": [
    "The shows were added on Netflix between 1st January 2008 and 16th January 2021."
   ]
  },
  {
   "cell_type": "code",
   "execution_count": 25,
   "metadata": {
    "execution": {
     "iopub.execute_input": "2022-09-23T15:08:20.003770Z",
     "iopub.status.busy": "2022-09-23T15:08:20.003351Z",
     "iopub.status.idle": "2022-09-23T15:08:20.016981Z",
     "shell.execute_reply": "2022-09-23T15:08:20.015734Z",
     "shell.execute_reply.started": "2022-09-23T15:08:20.003736Z"
    },
    "id": "RK-NMCEa7Rpe"
   },
   "outputs": [],
   "source": [
    "# Adding new attributes month and year of date added\n",
    "\n",
    "df['month_added'] = df['date_added'].dt.month\n",
    "df['year_added'] = df['date_added'].dt.year\n",
    "df.drop('date_added', axis=1, inplace=True)"
   ]
  },
  {
   "cell_type": "markdown",
   "metadata": {
    "id": "2-VIzp9o_PpW"
   },
   "source": [
    "## **4.6. Rating:**"
   ]
  },
  {
   "cell_type": "markdown",
   "metadata": {
    "id": "GYH6o9C5_ZTa"
   },
   "source": [
    "The ratings can be changed to age restrictions that apply on certain movies and TV shows.\n",
    "\n",
    "[Reference](https://www.primevideo.com/help/ref=atv_hp_nd_cnt?nodeId=GFGQU3WYEG6FSJFJ)"
   ]
  },
  {
   "cell_type": "code",
   "execution_count": 26,
   "metadata": {
    "execution": {
     "iopub.execute_input": "2022-09-23T15:08:21.392650Z",
     "iopub.status.busy": "2022-09-23T15:08:21.391882Z",
     "iopub.status.idle": "2022-09-23T15:08:21.400776Z",
     "shell.execute_reply": "2022-09-23T15:08:21.399870Z",
     "shell.execute_reply.started": "2022-09-23T15:08:21.392595Z"
    },
    "id": "tTEFapgfAHPG",
    "outputId": "d15a1b22-c2e1-4c43-ea72-b576ff0d044c"
   },
   "outputs": [
    {
     "data": {
      "text/plain": [
       "array(['PG-13', 'TV-MA', 'PG', 'TV-14', 'TV-PG', 'TV-Y', 'TV-Y7', 'R',\n",
       "       'TV-G', 'G', 'NC-17', 'NR', 'TV-Y7-FV', 'UR'], dtype=object)"
      ]
     },
     "execution_count": 26,
     "metadata": {},
     "output_type": "execute_result"
    }
   ],
   "source": [
    "# Age ratings\n",
    "df.rating.unique()"
   ]
  },
  {
   "cell_type": "code",
   "execution_count": 27,
   "metadata": {
    "execution": {
     "iopub.execute_input": "2022-09-23T15:08:22.015862Z",
     "iopub.status.busy": "2022-09-23T15:08:22.014826Z",
     "iopub.status.idle": "2022-09-23T15:08:22.278246Z",
     "shell.execute_reply": "2022-09-23T15:08:22.276861Z",
     "shell.execute_reply.started": "2022-09-23T15:08:22.015809Z"
    },
    "id": "soSWSFzp2YZC",
    "outputId": "e025f2d5-8f7b-4875-a1a6-d9798d12b018"
   },
   "outputs": [
    {
     "data": {
      "text/plain": [
       "<Axes: xlabel='rating', ylabel='count'>"
      ]
     },
     "execution_count": 27,
     "metadata": {},
     "output_type": "execute_result"
    },
    {
     "data": {
      "image/png": "[encoded data removed]",
      "text/plain": [
       "<Figure size 1000x500 with 1 Axes>"
      ]
     },
     "metadata": {},
     "output_type": "display_data"
    }
   ],
   "source": [
    "# Age ratings for shows in the dataset\n",
    "plt.figure(figsize=(10,5))\n",
    "sns.countplot(x='rating',data=df)"
   ]
  },
  {
   "cell_type": "markdown",
   "metadata": {
    "id": "XstF0DwV2izf"
   },
   "source": [
    "**Around 50% of shows on Netflix are produced for adult audience. Followed by young adults, older kids and kids. Netflix has the least number of shows that are specifically produced for teenagers than other age groups.**"
   ]
  },
  {
   "cell_type": "markdown",
   "metadata": {
    "id": "KShSvFckHn9W"
   },
   "source": [
    "# **5. Exploratory Data Analysis:**"
   ]
  },
  {
   "cell_type": "markdown",
   "metadata": {
    "id": "5aizFG5BIFPU"
   },
   "source": [
    "## **5.1. Univatiate Analysis:**"
   ]
  },
  {
   "cell_type": "code",
   "execution_count": 28,
   "metadata": {
    "execution": {
     "iopub.execute_input": "2022-09-23T15:08:23.164308Z",
     "iopub.status.busy": "2022-09-23T15:08:23.163504Z",
     "iopub.status.idle": "2022-09-23T15:08:23.332911Z",
     "shell.execute_reply": "2022-09-23T15:08:23.331364Z",
     "shell.execute_reply.started": "2022-09-23T15:08:23.164266Z"
    },
    "id": "_rR75iLpIIAt",
    "outputId": "87b99348-0aef-4744-ded6-7015c868a901"
   },
   "outputs": [
    {
     "data": {
      "text/plain": [
       "Text(0.5, 1.0, 'Movies and TV Shows in the dataset')"
      ]
     },
     "execution_count": 28,
     "metadata": {},
     "output_type": "execute_result"
    },
    {
     "data": {
      "image/png": "[encoded data removed]",
      "text/plain": [
       "<Figure size 700x700 with 1 Axes>"
      ]
     },
     "metadata": {},
     "output_type": "display_data"
    }
   ],
   "source": [
    "# Number of Movies and TV Shows in the dataset\n",
    "plt.figure(figsize=(7,7))\n",
    "df.type.value_counts().plot(kind='pie',autopct='%1.2f%%')\n",
    "plt.ylabel('')\n",
    "plt.title('Movies and TV Shows in the dataset')"
   ]
  },
  {
   "cell_type": "markdown",
   "metadata": {
    "id": "RMjkZQj81eU4"
   },
   "source": [
    "* **There are more movies (69.14%) than TV shows (30.86%)  in the dataset.**"
   ]
  },
  {
   "cell_type": "code",
   "execution_count": 29,
   "metadata": {
    "execution": {
     "iopub.execute_input": "2022-09-23T15:08:23.681714Z",
     "iopub.status.busy": "2022-09-23T15:08:23.681299Z",
     "iopub.status.idle": "2022-09-23T15:08:24.033670Z",
     "shell.execute_reply": "2022-09-23T15:08:24.032376Z",
     "shell.execute_reply.started": "2022-09-23T15:08:23.681670Z"
    },
    "id": "WtT_yuXRY7zl",
    "outputId": "d37d38cf-90ee-4b07-f3fb-8e1b12307ba9"
   },
   "outputs": [
    {
     "data": {
      "text/plain": [
       "Text(0.5, 1.0, 'Top 10 directors by number of shows directed')"
      ]
     },
     "execution_count": 29,
     "metadata": {},
     "output_type": "execute_result"
    },
    {
     "data": {
      "image/png": "[encoded data removed]",
      "text/plain": [
       "<Figure size 1000x500 with 1 Axes>"
      ]
     },
     "metadata": {},
     "output_type": "display_data"
    }
   ],
   "source": [
    "# Top 10 directors in the dataset\n",
    "plt.figure(figsize=(10,5))\n",
    "df[~(df['director']=='Unknown')].director.value_counts().nlargest(10).plot(kind='barh')\n",
    "plt.title('Top 10 directors by number of shows directed')"
   ]
  },
  {
   "cell_type": "markdown",
   "metadata": {
    "id": "WiYXxaEL1tIL"
   },
   "source": [
    "* **Raul Campos and Jan Suter together have directed 18 movies / TV shows, higher than anyone in the dataset.**"
   ]
  },
  {
   "cell_type": "code",
   "execution_count": 30,
   "metadata": {
    "execution": {
     "iopub.execute_input": "2022-09-23T15:08:26.381018Z",
     "iopub.status.busy": "2022-09-23T15:08:26.380658Z",
     "iopub.status.idle": "2022-09-23T15:08:26.738180Z",
     "shell.execute_reply": "2022-09-23T15:08:26.736840Z",
     "shell.execute_reply.started": "2022-09-23T15:08:26.380986Z"
    },
    "id": "7oHiZXEk0be_",
    "outputId": "9f7a85b9-a90d-4893-b525-4887a9ec46ac"
   },
   "outputs": [
    {
     "data": {
      "text/plain": [
       "Text(0.5, 1.0, 'Top 10 genres')"
      ]
     },
     "execution_count": 30,
     "metadata": {},
     "output_type": "execute_result"
    },
    {
     "data": {
      "image/png": "[encoded data removed]",
      "text/plain": [
       "<Figure size 1000x500 with 1 Axes>"
      ]
     },
     "metadata": {},
     "output_type": "display_data"
    }
   ],
   "source": [
    "# Top 10 genres \n",
    "plt.figure(figsize=(10,5))\n",
    "df.listed_in.value_counts().nlargest(10).plot(kind='barh')\n",
    "plt.title('Top 10 genres')"
   ]
  },
  {
   "cell_type": "code",
   "execution_count": 31,
   "metadata": {
    "execution": {
     "iopub.execute_input": "2022-09-23T15:08:26.740968Z",
     "iopub.status.busy": "2022-09-23T15:08:26.740460Z",
     "iopub.status.idle": "2022-09-23T15:08:26.752997Z",
     "shell.execute_reply": "2022-09-23T15:08:26.751615Z",
     "shell.execute_reply.started": "2022-09-23T15:08:26.740920Z"
    },
    "id": "eOvK8n_p7DbD",
    "outputId": "0047d9cd-9487-49af-f6ab-38c716f9d555"
   },
   "outputs": [
    {
     "data": {
      "text/plain": [
       "41.7216283829884"
      ]
     },
     "execution_count": 31,
     "metadata": {},
     "output_type": "execute_result"
    }
   ],
   "source": [
    "# Share of top 3 genres\n",
    "df.listed_in.value_counts().nlargest(3).sum()/len(df)*100"
   ]
  },
  {
   "cell_type": "code",
   "execution_count": 32,
   "metadata": {
    "execution": {
     "iopub.execute_input": "2022-09-23T15:08:26.966748Z",
     "iopub.status.busy": "2022-09-23T15:08:26.966254Z",
     "iopub.status.idle": "2022-09-23T15:08:26.976481Z",
     "shell.execute_reply": "2022-09-23T15:08:26.974690Z",
     "shell.execute_reply.started": "2022-09-23T15:08:26.966709Z"
    },
    "id": "QKM7RgdV7oa-",
    "outputId": "d03f24a2-2bcc-4bc9-a47e-f1a9886206bf"
   },
   "outputs": [
    {
     "data": {
      "text/plain": [
       "82.67000227427792"
      ]
     },
     "execution_count": 32,
     "metadata": {},
     "output_type": "execute_result"
    }
   ],
   "source": [
    "# Share of top 10 genres\n",
    "df.listed_in.value_counts().nlargest(10).sum()/len(df)*100"
   ]
  },
  {
   "cell_type": "markdown",
   "metadata": {
    "id": "xuQ6cLhD6vKU"
   },
   "source": [
    "* **The dramas is the most popular genre followed by comedies and documentaries.**\n",
    "* **These three genres account for about 41% of all movies and TV shows.**\n",
    "* **This value increases to about 82% for top 10 genres.**"
   ]
  },
  {
   "cell_type": "code",
   "execution_count": 33,
   "metadata": {},
   "outputs": [
    {
     "data": {
      "image/png": "[encoded data removed]",
      "text/plain": [
       "<Figure size 640x480 with 1 Axes>"
      ]
     },
     "metadata": {},
     "output_type": "display_data"
    }
   ],
   "source": [
    "# Countplot to visualize the categories in the 'type' column\n",
    "sns.countplot(data=df, x='Month')\n",
    "plt.xticks(rotation='vertical')\n",
    "\n",
    "# Show the plot\n",
    "plt.show()"
   ]
  },
  {
   "cell_type": "code",
   "execution_count": 34,
   "metadata": {},
   "outputs": [
    {
     "data": {
      "image/png": "[encoded data removed]",
      "text/plain": [
       "<Figure size 1500x800 with 1 Axes>"
      ]
     },
     "metadata": {},
     "output_type": "display_data"
    }
   ],
   "source": [
    "#Bar plot for country\n",
    "country_order = df['country'].value_counts()[:12].index\n",
    "content_data = df[['type', 'country']].groupby('country')['type'].value_counts().unstack().loc[country_order]\n",
    "content_data['sum'] = content_data.sum(axis=1)\n",
    "content_data_ratio = (content_data.T / content_data['sum']).T[['Movie', 'TV Show']].sort_values(by='Movie', ascending=False)[::-1]\n",
    "\n",
    "# Plotting the vertical bar plot\n",
    "fig, ax = plt.subplots(figsize=(15, 8))\n",
    "\n",
    "ax.bar(content_data_ratio.index, content_data_ratio['Movie'], color='crimson', alpha=0.8, label='Movie')\n",
    "ax.bar(content_data_ratio.index, content_data_ratio['TV Show'], bottom=content_data_ratio['Movie'],\n",
    "       color='black', alpha=0.8, label='TV Show')\n",
    "\n",
    "# Adding labels and title\n",
    "ax.set_xlabel('Country')\n",
    "ax.set_ylabel('Proportion')\n",
    "ax.set_title('Proportion of Movies and TV Shows in Top 12 Countries')\n",
    "\n",
    "# Rotating x-axis labels for better readability\n",
    "plt.xticks(rotation=45, ha='right')\n",
    "\n",
    "# Adding legend\n",
    "ax.legend()\n",
    "\n",
    "# Display the plot\n",
    "plt.show()\n"
   ]
  },
  {
   "cell_type": "markdown",
   "metadata": {
    "id": "oCS_ex8TIkdp"
   },
   "source": [
    "## **5.2. Bivariate analysis:**"
   ]
  },
  {
   "cell_type": "code",
   "execution_count": 35,
   "metadata": {},
   "outputs": [],
   "source": [
    "content_counts_per_decade = df.groupby(['Decade', 'type']).size().unstack(fill_value=0)"
   ]
  },
  {
   "cell_type": "code",
   "execution_count": 36,
   "metadata": {},
   "outputs": [
    {
     "data": {
      "text/plain": [
       "<Figure size 1400x800 with 0 Axes>"
      ]
     },
     "metadata": {},
     "output_type": "display_data"
    },
    {
     "data": {
      "image/png": "[encoded data removed]",
      "text/plain": [
       "<Figure size 640x480 with 1 Axes>"
      ]
     },
     "metadata": {},
     "output_type": "display_data"
    }
   ],
   "source": [
    "plt.figure(figsize=(14, 8))\n",
    "content_counts_per_decade.plot(kind='bar', stacked=True, colormap='viridis')\n",
    "plt.title('Number of Shows and Movies per Decade')\n",
    "plt.xlabel('Decade')\n",
    "plt.ylabel('Number of Releases')\n",
    "plt.legend(title='Type', loc='upper right')\n",
    "plt.show()"
   ]
  },
  {
   "cell_type": "code",
   "execution_count": 37,
   "metadata": {},
   "outputs": [],
   "source": [
    "average_runtime_per_decade = df.groupby(['Decade', 'type'])['duration'].mean().reset_index()"
   ]
  },
  {
   "cell_type": "code",
   "execution_count": 38,
   "metadata": {},
   "outputs": [
    {
     "data": {
      "image/png": "[encoded data removed]",
      "text/plain": [
       "<Figure size 1600x1000 with 2 Axes>"
      ]
     },
     "metadata": {},
     "output_type": "display_data"
    }
   ],
   "source": [
    "# Filter data for TV shows and movies\n",
    "tv_shows_data = average_runtime_per_decade[average_runtime_per_decade['type'] == 'TV Show']\n",
    "movies_data = average_runtime_per_decade[average_runtime_per_decade['type'] == 'Movie']\n",
    "\n",
    "# Create separate plots for TV shows and movies\n",
    "plt.figure(figsize=(16, 10))\n",
    "\n",
    "# Plotting average runtime per decade for TV shows\n",
    "plt.subplot(2, 1, 1)\n",
    "sns.barplot(x='Decade', y='duration', data=tv_shows_data, palette='Set2')\n",
    "plt.title('Average Runtimes for TV Shows per Decade (seasons)')\n",
    "plt.xlabel('Decade')\n",
    "plt.ylabel('Average Duration')\n",
    "\n",
    "# Plotting average runtime per decade for movies\n",
    "plt.subplot(2, 1, 2)\n",
    "sns.barplot(x='Decade', y='duration', data=movies_data, palette='Set2')\n",
    "plt.title('Average Runtimes for Movies per Decade (minutes)')\n",
    "plt.xlabel('Decade')\n",
    "plt.ylabel('Average Duration')\n",
    "\n",
    "# Adjust layout\n",
    "plt.tight_layout()\n",
    "\n",
    "# Show the plots\n",
    "plt.show()"
   ]
  },
  {
   "cell_type": "code",
   "execution_count": 39,
   "metadata": {},
   "outputs": [],
   "source": [
    "rating_counts_per_decade = df.groupby(['Decade', 'rating']).size().unstack(fill_value=0)"
   ]
  },
  {
   "cell_type": "code",
   "execution_count": 40,
   "metadata": {},
   "outputs": [
    {
     "data": {
      "image/png": "[encoded data removed]",
      "text/plain": [
       "<Figure size 1400x800 with 2 Axes>"
      ]
     },
     "metadata": {},
     "output_type": "display_data"
    }
   ],
   "source": [
    "plt.figure(figsize=(14, 8))\n",
    "sns.heatmap(rating_counts_per_decade, annot=True, cmap='Blues', fmt='g')\n",
    "plt.title('Number of Ratings per Decade')\n",
    "plt.xlabel('Rating')\n",
    "plt.ylabel('Decade')\n",
    "plt.show()"
   ]
  },
  {
   "cell_type": "code",
   "execution_count": 41,
   "metadata": {
    "execution": {
     "iopub.execute_input": "2022-09-23T15:08:31.174356Z",
     "iopub.status.busy": "2022-09-23T15:08:31.173809Z",
     "iopub.status.idle": "2022-09-23T15:08:31.612166Z",
     "shell.execute_reply": "2022-09-23T15:08:31.610779Z",
     "shell.execute_reply.started": "2022-09-23T15:08:31.174307Z"
    },
    "id": "bEiRuCU3Dgz9",
    "outputId": "211e1b82-0b5e-40f4-cbef-eb0680f5ae51"
   },
   "outputs": [
    {
     "data": {
      "image/png": "[encoded data removed]",
      "text/plain": [
       "<Figure size 1000x500 with 1 Axes>"
      ]
     },
     "metadata": {},
     "output_type": "display_data"
    }
   ],
   "source": [
    "# Seasons in each TV show\n",
    "plt.figure(figsize=(10,5))\n",
    "p = sns.countplot(x='duration',data=df[df['type']=='TV Show'])\n",
    "plt.title('Number of seasons per TV show distribution')\n",
    "\n",
    "for i in p.patches:\n",
    "  p.annotate(format(i.get_height(), '.0f'), (i.get_x() + i.get_width() / 2., i.get_height()), ha = 'center', va = 'center', xytext = (0, 10), textcoords = 'offset points')"
   ]
  },
  {
   "cell_type": "code",
   "execution_count": 42,
   "metadata": {
    "execution": {
     "iopub.execute_input": "2022-09-23T15:08:31.614528Z",
     "iopub.status.busy": "2022-09-23T15:08:31.614152Z",
     "iopub.status.idle": "2022-09-23T15:08:31.627860Z",
     "shell.execute_reply": "2022-09-23T15:08:31.626410Z",
     "shell.execute_reply.started": "2022-09-23T15:08:31.614493Z"
    },
    "id": "hyvPDJN8xUW4",
    "outputId": "a55c4498-8868-44c3-eb03-b6c5f680fb65"
   },
   "outputs": [
    {
     "data": {
      "text/plain": [
       "67.2543135783946"
      ]
     },
     "execution_count": 42,
     "metadata": {},
     "output_type": "execute_result"
    }
   ],
   "source": [
    "# % of tv shows with just 1 season\n",
    "len(df[(df['type']=='TV Show') & (df['duration']==1)]) / len(df[df['type']=='TV Show'])* 100"
   ]
  },
  {
   "cell_type": "markdown",
   "metadata": {
    "id": "UkWvlumyxBKO"
   },
   "source": [
    "* **The TV series in the dataset have up to 16 seasons, however the bulk of them only have one. This might mean that the majority of TV shows has only recently begun, and that further seasons are on the way.**\n",
    "* **There are very few TV shows that have more than 8 seasons.**"
   ]
  },
  {
   "cell_type": "code",
   "execution_count": 43,
   "metadata": {
    "execution": {
     "iopub.execute_input": "2022-09-23T15:08:46.569319Z",
     "iopub.status.busy": "2022-09-23T15:08:46.568751Z",
     "iopub.status.idle": "2022-09-23T15:08:46.952520Z",
     "shell.execute_reply": "2022-09-23T15:08:46.951327Z",
     "shell.execute_reply.started": "2022-09-23T15:08:46.569270Z"
    },
    "id": "XWwyBRVKfsXq",
    "outputId": "677fee6e-ac9b-4af9-93fd-dca348f94a8c"
   },
   "outputs": [
    {
     "data": {
      "text/plain": [
       "Text(0.5, 1.0, 'Top 10 genres for movies')"
      ]
     },
     "execution_count": 43,
     "metadata": {},
     "output_type": "execute_result"
    },
    {
     "data": {
      "image/png": "[encoded data removed]",
      "text/plain": [
       "<Figure size 1000x500 with 1 Axes>"
      ]
     },
     "metadata": {},
     "output_type": "display_data"
    }
   ],
   "source": [
    "# Top 10 genre for movies\n",
    "plt.figure(figsize=(10,5))\n",
    "df[df['type']=='Movie'].listed_in.value_counts().nlargest(10).plot(kind='barh')\n",
    "plt.title('Top 10 genres for movies')"
   ]
  },
  {
   "cell_type": "markdown",
   "metadata": {
    "id": "rbIAYllFFECp"
   },
   "source": [
    "* **Dramas, comedies, and documentaries are the most popular genre for the movies on Netflix.**"
   ]
  },
  {
   "cell_type": "code",
   "execution_count": 44,
   "metadata": {
    "execution": {
     "iopub.execute_input": "2022-09-23T15:08:49.058183Z",
     "iopub.status.busy": "2022-09-23T15:08:49.056897Z",
     "iopub.status.idle": "2022-09-23T15:08:49.443916Z",
     "shell.execute_reply": "2022-09-23T15:08:49.442399Z",
     "shell.execute_reply.started": "2022-09-23T15:08:49.058120Z"
    },
    "id": "dj9AA1mUJAmS",
    "outputId": "1e9a237b-522a-4d8e-d5b5-d334b4fe48e3"
   },
   "outputs": [
    {
     "data": {
      "text/plain": [
       "Text(0.5, 1.0, 'Actors who have appeared in highest number of movies')"
      ]
     },
     "execution_count": 44,
     "metadata": {},
     "output_type": "execute_result"
    },
    {
     "data": {
      "image/png": "[encoded data removed]",
      "text/plain": [
       "<Figure size 1000x500 with 1 Axes>"
      ]
     },
     "metadata": {},
     "output_type": "display_data"
    }
   ],
   "source": [
    "# Top actors for movies\n",
    "plt.figure(figsize=(10,5))\n",
    "df[~(df['cast']=='Unknown') & (df['type']=='Movie')].cast.value_counts().nlargest(10).plot(kind='barh')\n",
    "plt.title('Actors who have appeared in highest number of movies')"
   ]
  },
  {
   "cell_type": "markdown",
   "metadata": {
    "id": "otXJJGy-L32V"
   },
   "source": [
    "* **Samuel West has appeared in 10 movies, followed by Jeff Dunham with 7 movies.**"
   ]
  },
  {
   "cell_type": "code",
   "execution_count": 45,
   "metadata": {
    "execution": {
     "iopub.execute_input": "2022-09-23T15:08:49.565279Z",
     "iopub.status.busy": "2022-09-23T15:08:49.564766Z",
     "iopub.status.idle": "2022-09-23T15:08:49.937786Z",
     "shell.execute_reply": "2022-09-23T15:08:49.936445Z",
     "shell.execute_reply.started": "2022-09-23T15:08:49.565236Z"
    },
    "id": "7JbnhnXkKGNK",
    "outputId": "58dec296-35c6-4166-f0c0-ab4ab417cfe9"
   },
   "outputs": [
    {
     "data": {
      "text/plain": [
       "Text(0.5, 1.0, 'Actors who have appeared in highest number of TV shows')"
      ]
     },
     "execution_count": 45,
     "metadata": {},
     "output_type": "execute_result"
    },
    {
     "data": {
      "image/png": "[encoded data removed]",
      "text/plain": [
       "<Figure size 1000x500 with 1 Axes>"
      ]
     },
     "metadata": {},
     "output_type": "display_data"
    }
   ],
   "source": [
    "# Top actors for TV shows\n",
    "plt.figure(figsize=(10,5))\n",
    "df[~(df['cast']=='Unknown') & (df['type']=='TV Show')].cast.value_counts().nlargest(10).plot(kind='barh')\n",
    "plt.title('Actors who have appeared in highest number of TV shows')"
   ]
  },
  {
   "cell_type": "markdown",
   "metadata": {
    "id": "Q42mP5vjMHpq"
   },
   "source": [
    "* **David Attenborough has appeared in 13 TV shows, followed by Michela Luci, Jamie Watson, Anna Claire Bartlam, Dante Zee, Eric Peterson with 4 TV shows.**"
   ]
  },
  {
   "cell_type": "markdown",
   "metadata": {},
   "source": [
    "# Hypothesis Testing"
   ]
  },
  {
   "cell_type": "markdown",
   "metadata": {},
   "source": [
    "TEST 1\n",
    "\n",
    "HO:movies rated for kids and older kids are at least two hours long.\n",
    "H1:movies rated for kids and older kids are not at least two hours long."
   ]
  },
  {
   "cell_type": "code",
   "execution_count": 48,
   "metadata": {},
   "outputs": [],
   "source": [
    "#making copy of df_clean_frame\n",
    "df_hypothesis=df.copy()\n",
    "#head of df_hypothesis\n",
    "df_hypothesis.head()\n",
    "\n",
    "#filtering movie from Type_of_show column\n",
    "df_hypothesis = df_hypothesis[df_hypothesis[\"type\"] == \"Movie\"]"
   ]
  },
  {
   "cell_type": "code",
   "execution_count": 49,
   "metadata": {},
   "outputs": [
    {
     "data": {
      "text/plain": [
       "array(['Teens', 'Older Kids', 'Adults', 'Kids'], dtype=object)"
      ]
     },
     "execution_count": 49,
     "metadata": {},
     "output_type": "execute_result"
    }
   ],
   "source": [
    "#with respect to each ratings assigning it into group of categories                 \n",
    "ratings_ages = {\n",
    "    'TV-PG': 'Older Kids',\n",
    "    'TV-MA': 'Adults',\n",
    "    'TV-Y7-FV': 'Older Kids',\n",
    "    'TV-Y7': 'Older Kids',\n",
    "    'TV-14': 'Teens',\n",
    "    'R': 'Adults',\n",
    "    'TV-Y': 'Kids',\n",
    "    'NR': 'Adults',\n",
    "    'PG-13': 'Teens',\n",
    "    'TV-G': 'Kids',\n",
    "    'PG': 'Older Kids',\n",
    "    'G': 'Kids',\n",
    "    'UR': 'Adults',\n",
    "    'NC-17': 'Adults'\n",
    "}\n",
    "\n",
    "df_hypothesis['Age_Group'] = df_hypothesis['rating'].replace(ratings_ages)\n",
    "#let's see unique target ages \n",
    "df_hypothesis['Age_Group'].unique()"
   ]
  },
  {
   "cell_type": "code",
   "execution_count": 50,
   "metadata": {},
   "outputs": [
    {
     "data": {
      "text/html": [
       "<div>\n",
       "<style scoped>\n",
       "    .dataframe tbody tr th:only-of-type {\n",
       "        vertical-align: middle;\n",
       "    }\n",
       "\n",
       "    .dataframe tbody tr th {\n",
       "        vertical-align: top;\n",
       "    }\n",
       "\n",
       "    .dataframe thead th {\n",
       "        text-align: right;\n",
       "    }\n",
       "</style>\n",
       "<table border=\"1\" class=\"dataframe\">\n",
       "  <thead>\n",
       "    <tr style=\"text-align: right;\">\n",
       "      <th></th>\n",
       "      <th>show_id</th>\n",
       "      <th>type</th>\n",
       "      <th>title</th>\n",
       "      <th>director</th>\n",
       "      <th>cast</th>\n",
       "      <th>country</th>\n",
       "      <th>release_year</th>\n",
       "      <th>rating</th>\n",
       "      <th>duration</th>\n",
       "      <th>listed_in</th>\n",
       "      <th>description</th>\n",
       "      <th>Month</th>\n",
       "      <th>Decade</th>\n",
       "      <th>month_added</th>\n",
       "      <th>year_added</th>\n",
       "      <th>Age_Group</th>\n",
       "    </tr>\n",
       "  </thead>\n",
       "  <tbody>\n",
       "    <tr>\n",
       "      <th>0</th>\n",
       "      <td>s1</td>\n",
       "      <td>Movie</td>\n",
       "      <td>Dick Johnson Is Dead</td>\n",
       "      <td>Kirsten Johnson</td>\n",
       "      <td>Unknown</td>\n",
       "      <td>United States</td>\n",
       "      <td>2020</td>\n",
       "      <td>PG-13</td>\n",
       "      <td>90</td>\n",
       "      <td>Documentaries</td>\n",
       "      <td>As her father nears the end of his life, filmm...</td>\n",
       "      <td>September</td>\n",
       "      <td>2020</td>\n",
       "      <td>9</td>\n",
       "      <td>2021</td>\n",
       "      <td>Teens</td>\n",
       "    </tr>\n",
       "    <tr>\n",
       "      <th>6</th>\n",
       "      <td>s7</td>\n",
       "      <td>Movie</td>\n",
       "      <td>My Little Pony: A New Generation</td>\n",
       "      <td>Robert Cullen, José Luis Ucha</td>\n",
       "      <td>Vanessa Hudgens, Kimiko Glenn, James Marsden, ...</td>\n",
       "      <td>Unknown</td>\n",
       "      <td>2021</td>\n",
       "      <td>PG</td>\n",
       "      <td>91</td>\n",
       "      <td>Children &amp; Family Movies</td>\n",
       "      <td>Equestria's divided. But a bright-eyed hero be...</td>\n",
       "      <td>September</td>\n",
       "      <td>2020</td>\n",
       "      <td>9</td>\n",
       "      <td>2021</td>\n",
       "      <td>Older Kids</td>\n",
       "    </tr>\n",
       "    <tr>\n",
       "      <th>7</th>\n",
       "      <td>s8</td>\n",
       "      <td>Movie</td>\n",
       "      <td>Sankofa</td>\n",
       "      <td>Haile Gerima</td>\n",
       "      <td>Kofi Ghanaba, Oyafunmike Ogunlano, Alexandra D...</td>\n",
       "      <td>United States</td>\n",
       "      <td>1993</td>\n",
       "      <td>TV-MA</td>\n",
       "      <td>125</td>\n",
       "      <td>Dramas</td>\n",
       "      <td>On a photo shoot in Ghana, an American model s...</td>\n",
       "      <td>September</td>\n",
       "      <td>1990</td>\n",
       "      <td>9</td>\n",
       "      <td>2021</td>\n",
       "      <td>Adults</td>\n",
       "    </tr>\n",
       "    <tr>\n",
       "      <th>9</th>\n",
       "      <td>s10</td>\n",
       "      <td>Movie</td>\n",
       "      <td>The Starling</td>\n",
       "      <td>Theodore Melfi</td>\n",
       "      <td>Melissa McCarthy, Chris O'Dowd, Kevin Kline, T...</td>\n",
       "      <td>United States</td>\n",
       "      <td>2021</td>\n",
       "      <td>PG-13</td>\n",
       "      <td>104</td>\n",
       "      <td>Comedies</td>\n",
       "      <td>A woman adjusting to life after a loss contend...</td>\n",
       "      <td>September</td>\n",
       "      <td>2020</td>\n",
       "      <td>9</td>\n",
       "      <td>2021</td>\n",
       "      <td>Teens</td>\n",
       "    </tr>\n",
       "    <tr>\n",
       "      <th>12</th>\n",
       "      <td>s13</td>\n",
       "      <td>Movie</td>\n",
       "      <td>Je Suis Karl</td>\n",
       "      <td>Christian Schwochow</td>\n",
       "      <td>Luna Wedler, Jannis Niewöhner, Milan Peschel, ...</td>\n",
       "      <td>Germany</td>\n",
       "      <td>2021</td>\n",
       "      <td>TV-MA</td>\n",
       "      <td>127</td>\n",
       "      <td>Dramas</td>\n",
       "      <td>After most of her family is murdered in a terr...</td>\n",
       "      <td>September</td>\n",
       "      <td>2020</td>\n",
       "      <td>9</td>\n",
       "      <td>2021</td>\n",
       "      <td>Adults</td>\n",
       "    </tr>\n",
       "  </tbody>\n",
       "</table>\n",
       "</div>"
      ],
      "text/plain": [
       "   show_id   type                             title  \\\n",
       "0       s1  Movie              Dick Johnson Is Dead   \n",
       "6       s7  Movie  My Little Pony: A New Generation   \n",
       "7       s8  Movie                           Sankofa   \n",
       "9      s10  Movie                      The Starling   \n",
       "12     s13  Movie                      Je Suis Karl   \n",
       "\n",
       "                         director  \\\n",
       "0                 Kirsten Johnson   \n",
       "6   Robert Cullen, José Luis Ucha   \n",
       "7                    Haile Gerima   \n",
       "9                  Theodore Melfi   \n",
       "12            Christian Schwochow   \n",
       "\n",
       "                                                 cast        country  \\\n",
       "0                                             Unknown  United States   \n",
       "6   Vanessa Hudgens, Kimiko Glenn, James Marsden, ...        Unknown   \n",
       "7   Kofi Ghanaba, Oyafunmike Ogunlano, Alexandra D...  United States   \n",
       "9   Melissa McCarthy, Chris O'Dowd, Kevin Kline, T...  United States   \n",
       "12  Luna Wedler, Jannis Niewöhner, Milan Peschel, ...        Germany   \n",
       "\n",
       "    release_year rating  duration                 listed_in  \\\n",
       "0           2020  PG-13        90             Documentaries   \n",
       "6           2021     PG        91  Children & Family Movies   \n",
       "7           1993  TV-MA       125                    Dramas   \n",
       "9           2021  PG-13       104                  Comedies   \n",
       "12          2021  TV-MA       127                    Dramas   \n",
       "\n",
       "                                          description      Month  Decade  \\\n",
       "0   As her father nears the end of his life, filmm...  September    2020   \n",
       "6   Equestria's divided. But a bright-eyed hero be...  September    2020   \n",
       "7   On a photo shoot in Ghana, an American model s...  September    1990   \n",
       "9   A woman adjusting to life after a loss contend...  September    2020   \n",
       "12  After most of her family is murdered in a terr...  September    2020   \n",
       "\n",
       "    month_added  year_added   Age_Group  \n",
       "0             9        2021       Teens  \n",
       "6             9        2021  Older Kids  \n",
       "7             9        2021      Adults  \n",
       "9             9        2021       Teens  \n",
       "12            9        2021      Adults  "
      ]
     },
     "execution_count": 50,
     "metadata": {},
     "output_type": "execute_result"
    }
   ],
   "source": [
    "df_hypothesis.head()"
   ]
  },
  {
   "cell_type": "code",
   "execution_count": 51,
   "metadata": {},
   "outputs": [
    {
     "name": "stdout",
     "output_type": "stream",
     "text": [
      "int64\n"
     ]
    }
   ],
   "source": [
    "# Check the data types of the 'duration' column\n",
    "print(df_hypothesis['duration'].dtype)\n",
    "\n",
    "# Convert non-string values to string\n",
    "df_hypothesis['duration'] = df_hypothesis['duration'].astype(str)\n",
    "\n",
    "# Extract the numeric part from the 'duration' column\n",
    "df_hypothesis['duration'] = df_hypothesis['duration'].str.extract('(\\d+)')\n",
    "\n",
    "# Convert the 'duration' column to numeric\n",
    "df_hypothesis['duration'] = pd.to_numeric(df_hypothesis['duration'])"
   ]
  },
  {
   "cell_type": "code",
   "execution_count": 52,
   "metadata": {},
   "outputs": [
    {
     "name": "stdout",
     "output_type": "stream",
     "text": [
      "int64\n"
     ]
    }
   ],
   "source": [
    "# Check the data type of the 'duration' column\n",
    "print(df_hypothesis['duration'].dtype)\n",
    "\n",
    "# If the 'duration' column is already float64, you can skip the conversion\n",
    "# df_hypothesis['duration'] = df_hypothesis['duration'].astype(float)\n",
    "\n",
    "# Continue with converting the 'duration' column to numeric (if needed)\n",
    "df_hypothesis['duration'] = pd.to_numeric(df_hypothesis['duration'])"
   ]
  },
  {
   "cell_type": "code",
   "execution_count": 53,
   "metadata": {},
   "outputs": [
    {
     "data": {
      "text/html": [
       "<div>\n",
       "<style scoped>\n",
       "    .dataframe tbody tr th:only-of-type {\n",
       "        vertical-align: middle;\n",
       "    }\n",
       "\n",
       "    .dataframe tbody tr th {\n",
       "        vertical-align: top;\n",
       "    }\n",
       "\n",
       "    .dataframe thead th {\n",
       "        text-align: right;\n",
       "    }\n",
       "</style>\n",
       "<table border=\"1\" class=\"dataframe\">\n",
       "  <thead>\n",
       "    <tr style=\"text-align: right;\">\n",
       "      <th></th>\n",
       "      <th>Age_Group</th>\n",
       "      <th>duration</th>\n",
       "    </tr>\n",
       "  </thead>\n",
       "  <tbody>\n",
       "    <tr>\n",
       "      <th>0</th>\n",
       "      <td>Adults</td>\n",
       "      <td>98.816111</td>\n",
       "    </tr>\n",
       "    <tr>\n",
       "      <th>1</th>\n",
       "      <td>Kids</td>\n",
       "      <td>67.255034</td>\n",
       "    </tr>\n",
       "    <tr>\n",
       "      <th>2</th>\n",
       "      <td>Older Kids</td>\n",
       "      <td>91.640577</td>\n",
       "    </tr>\n",
       "    <tr>\n",
       "      <th>3</th>\n",
       "      <td>Teens</td>\n",
       "      <td>109.789776</td>\n",
       "    </tr>\n",
       "  </tbody>\n",
       "</table>\n",
       "</div>"
      ],
      "text/plain": [
       "    Age_Group    duration\n",
       "0      Adults   98.816111\n",
       "1        Kids   67.255034\n",
       "2  Older Kids   91.640577\n",
       "3       Teens  109.789776"
      ]
     },
     "execution_count": 53,
     "metadata": {},
     "output_type": "execute_result"
    }
   ],
   "source": [
    "#group_by duration and Age_Group                \n",
    "group_by_= df_hypothesis[['duration','Age_Group']].groupby(by='Age_Group')\n",
    "#mean of group_by variable\n",
    "group=group_by_.mean().reset_index()\n",
    "group\n"
   ]
  },
  {
   "cell_type": "code",
   "execution_count": 54,
   "metadata": {},
   "outputs": [
    {
     "name": "stdout",
     "output_type": "stream",
     "text": [
      "Mean for movies rated for Kids duration    67.255034\n",
      "dtype: float64 \n",
      " Mean for  movies rated for older kids duration    91.640577\n",
      "dtype: float64\n",
      "Std for  movies rated for Older Kids duration    30.514448\n",
      "dtype: float64 \n",
      " Std for  movies rated for kids duration    33.745463\n",
      "dtype: float64\n"
     ]
    }
   ],
   "source": [
    "#In A and B variable grouping values \n",
    "A= group_by_.get_group('Kids')\n",
    "B= group_by_.get_group('Older Kids')\n",
    "#mean and std. calutation for kids and older kids variables\n",
    "M1 = A.mean()\n",
    "S1 = A.std()\n",
    "\n",
    "M2= B.mean()\n",
    "S2 = B.std()\n",
    "\n",
    "print('Mean for movies rated for Kids {} \\n Mean for  movies rated for older kids {}'.format(M1,M2))\n",
    "print('Std for  movies rated for Older Kids {} \\n Std for  movies rated for kids {}'.format(S2,S1))"
   ]
  },
  {
   "cell_type": "code",
   "execution_count": 55,
   "metadata": {},
   "outputs": [
    {
     "name": "stdout",
     "output_type": "stream",
     "text": [
      "298 971\n",
      "dof 1267\n",
      "SP_2 = duration    1090.086548\n",
      "dtype: float64\n",
      "SP duration    33.016459\n",
      "dtype: float64\n",
      "tvalue -11.152927506843636\n"
     ]
    }
   ],
   "source": [
    "#import stats \n",
    "from scipy import stats\n",
    "#length of groups and DOF\n",
    "n1 = len(A)\n",
    "n2= len(B)\n",
    "print(n1,n2)\n",
    "\n",
    "dof = n1+n2-2\n",
    "print('dof',dof)\n",
    "\n",
    "sp_2 = ((n2-1)*S1**2  + (n1-1)*S2**2) / dof\n",
    "print('SP_2 =',sp_2)\n",
    "\n",
    "sp = np.sqrt(sp_2)\n",
    "print('SP',sp)\n",
    "\n",
    "#tvalue\n",
    "t_val = (M1-M2)/(sp * np.sqrt(1/n1 + 1/n2))\n",
    "print('tvalue',t_val[0])"
   ]
  },
  {
   "cell_type": "code",
   "execution_count": 56,
   "metadata": {},
   "outputs": [
    {
     "data": {
      "text/plain": [
       "-1.9618380970304778"
      ]
     },
     "execution_count": 56,
     "metadata": {},
     "output_type": "execute_result"
    }
   ],
   "source": [
    "stats.t.ppf(0.025,dof)"
   ]
  },
  {
   "cell_type": "code",
   "execution_count": 57,
   "metadata": {},
   "outputs": [
    {
     "data": {
      "text/plain": [
       "1.9618380970304774"
      ]
     },
     "execution_count": 57,
     "metadata": {},
     "output_type": "execute_result"
    }
   ],
   "source": [
    "#t-distribution\n",
    "stats.t.ppf(0.975,dof)"
   ]
  },
  {
   "cell_type": "markdown",
   "metadata": {},
   "source": [
    "Because the t-value is not in the range, the null hypothesis is rejected.\n",
    "\n",
    "As a result, movies rated for kids and older kids are not at least two hours long."
   ]
  },
  {
   "cell_type": "markdown",
   "metadata": {},
   "source": [
    "TEST 2\n",
    "\n",
    "H1:The duration which is more than 90 mins are movies\n",
    "HO:The duration which is more than 90 mins are NOT movies"
   ]
  },
  {
   "cell_type": "code",
   "execution_count": 59,
   "metadata": {},
   "outputs": [
    {
     "data": {
      "text/html": [
       "<div>\n",
       "<style scoped>\n",
       "    .dataframe tbody tr th:only-of-type {\n",
       "        vertical-align: middle;\n",
       "    }\n",
       "\n",
       "    .dataframe tbody tr th {\n",
       "        vertical-align: top;\n",
       "    }\n",
       "\n",
       "    .dataframe thead th {\n",
       "        text-align: right;\n",
       "    }\n",
       "</style>\n",
       "<table border=\"1\" class=\"dataframe\">\n",
       "  <thead>\n",
       "    <tr style=\"text-align: right;\">\n",
       "      <th></th>\n",
       "      <th>show_id</th>\n",
       "      <th>type</th>\n",
       "      <th>title</th>\n",
       "      <th>director</th>\n",
       "      <th>cast</th>\n",
       "      <th>country</th>\n",
       "      <th>release_year</th>\n",
       "      <th>rating</th>\n",
       "      <th>duration</th>\n",
       "      <th>listed_in</th>\n",
       "      <th>description</th>\n",
       "      <th>Month</th>\n",
       "      <th>Decade</th>\n",
       "      <th>month_added</th>\n",
       "      <th>year_added</th>\n",
       "    </tr>\n",
       "  </thead>\n",
       "  <tbody>\n",
       "    <tr>\n",
       "      <th>0</th>\n",
       "      <td>s1</td>\n",
       "      <td>Movie</td>\n",
       "      <td>Dick Johnson Is Dead</td>\n",
       "      <td>Kirsten Johnson</td>\n",
       "      <td>Unknown</td>\n",
       "      <td>United States</td>\n",
       "      <td>2020</td>\n",
       "      <td>PG-13</td>\n",
       "      <td>90</td>\n",
       "      <td>Documentaries</td>\n",
       "      <td>As her father nears the end of his life, filmm...</td>\n",
       "      <td>September</td>\n",
       "      <td>2020</td>\n",
       "      <td>9</td>\n",
       "      <td>2021</td>\n",
       "    </tr>\n",
       "    <tr>\n",
       "      <th>1</th>\n",
       "      <td>s2</td>\n",
       "      <td>TV Show</td>\n",
       "      <td>Blood &amp; Water</td>\n",
       "      <td>Unknown</td>\n",
       "      <td>Ama Qamata, Khosi Ngema, Gail Mabalane, Thaban...</td>\n",
       "      <td>South Africa</td>\n",
       "      <td>2021</td>\n",
       "      <td>TV-MA</td>\n",
       "      <td>2</td>\n",
       "      <td>International TV Shows</td>\n",
       "      <td>After crossing paths at a party, a Cape Town t...</td>\n",
       "      <td>September</td>\n",
       "      <td>2020</td>\n",
       "      <td>9</td>\n",
       "      <td>2021</td>\n",
       "    </tr>\n",
       "    <tr>\n",
       "      <th>2</th>\n",
       "      <td>s3</td>\n",
       "      <td>TV Show</td>\n",
       "      <td>Ganglands</td>\n",
       "      <td>Julien Leclercq</td>\n",
       "      <td>Sami Bouajila, Tracy Gotoas, Samuel Jouy, Nabi...</td>\n",
       "      <td>Unknown</td>\n",
       "      <td>2021</td>\n",
       "      <td>TV-MA</td>\n",
       "      <td>1</td>\n",
       "      <td>Crime TV Shows</td>\n",
       "      <td>To protect his family from a powerful drug lor...</td>\n",
       "      <td>September</td>\n",
       "      <td>2020</td>\n",
       "      <td>9</td>\n",
       "      <td>2021</td>\n",
       "    </tr>\n",
       "    <tr>\n",
       "      <th>3</th>\n",
       "      <td>s4</td>\n",
       "      <td>TV Show</td>\n",
       "      <td>Jailbirds New Orleans</td>\n",
       "      <td>Unknown</td>\n",
       "      <td>Unknown</td>\n",
       "      <td>Unknown</td>\n",
       "      <td>2021</td>\n",
       "      <td>TV-MA</td>\n",
       "      <td>1</td>\n",
       "      <td>Docuseries</td>\n",
       "      <td>Feuds, flirtations and toilet talk go down amo...</td>\n",
       "      <td>September</td>\n",
       "      <td>2020</td>\n",
       "      <td>9</td>\n",
       "      <td>2021</td>\n",
       "    </tr>\n",
       "    <tr>\n",
       "      <th>4</th>\n",
       "      <td>s5</td>\n",
       "      <td>TV Show</td>\n",
       "      <td>Kota Factory</td>\n",
       "      <td>Unknown</td>\n",
       "      <td>Mayur More, Jitendra Kumar, Ranjan Raj, Alam K...</td>\n",
       "      <td>India</td>\n",
       "      <td>2021</td>\n",
       "      <td>TV-MA</td>\n",
       "      <td>2</td>\n",
       "      <td>International TV Shows</td>\n",
       "      <td>In a city of coaching centers known to train I...</td>\n",
       "      <td>September</td>\n",
       "      <td>2020</td>\n",
       "      <td>9</td>\n",
       "      <td>2021</td>\n",
       "    </tr>\n",
       "  </tbody>\n",
       "</table>\n",
       "</div>"
      ],
      "text/plain": [
       "  show_id     type                  title         director  \\\n",
       "0      s1    Movie   Dick Johnson Is Dead  Kirsten Johnson   \n",
       "1      s2  TV Show          Blood & Water          Unknown   \n",
       "2      s3  TV Show              Ganglands  Julien Leclercq   \n",
       "3      s4  TV Show  Jailbirds New Orleans          Unknown   \n",
       "4      s5  TV Show           Kota Factory          Unknown   \n",
       "\n",
       "                                                cast        country  \\\n",
       "0                                            Unknown  United States   \n",
       "1  Ama Qamata, Khosi Ngema, Gail Mabalane, Thaban...   South Africa   \n",
       "2  Sami Bouajila, Tracy Gotoas, Samuel Jouy, Nabi...        Unknown   \n",
       "3                                            Unknown        Unknown   \n",
       "4  Mayur More, Jitendra Kumar, Ranjan Raj, Alam K...          India   \n",
       "\n",
       "   release_year rating  duration               listed_in  \\\n",
       "0          2020  PG-13        90           Documentaries   \n",
       "1          2021  TV-MA         2  International TV Shows   \n",
       "2          2021  TV-MA         1          Crime TV Shows   \n",
       "3          2021  TV-MA         1              Docuseries   \n",
       "4          2021  TV-MA         2  International TV Shows   \n",
       "\n",
       "                                         description      Month  Decade  \\\n",
       "0  As her father nears the end of his life, filmm...  September    2020   \n",
       "1  After crossing paths at a party, a Cape Town t...  September    2020   \n",
       "2  To protect his family from a powerful drug lor...  September    2020   \n",
       "3  Feuds, flirtations and toilet talk go down amo...  September    2020   \n",
       "4  In a city of coaching centers known to train I...  September    2020   \n",
       "\n",
       "   month_added  year_added  \n",
       "0            9        2021  \n",
       "1            9        2021  \n",
       "2            9        2021  \n",
       "3            9        2021  \n",
       "4            9        2021  "
      ]
     },
     "execution_count": 59,
     "metadata": {},
     "output_type": "execute_result"
    }
   ],
   "source": [
    "#making copy of df_clean_frame\n",
    "df_hypothesis=df.copy()\n",
    "#head of df_hypothesis\n",
    "df_hypothesis.head()"
   ]
  },
  {
   "cell_type": "code",
   "execution_count": 60,
   "metadata": {},
   "outputs": [
    {
     "name": "stdout",
     "output_type": "stream",
     "text": [
      "int64\n"
     ]
    }
   ],
   "source": [
    "# Check the data types of the 'duration' column\n",
    "print(df_hypothesis['duration'].dtype)\n",
    "\n",
    "# Convert non-string values to string\n",
    "df_hypothesis['duration'] = df_hypothesis['duration'].astype(str)\n",
    "\n",
    "# Extract the numeric part from the 'duration' column\n",
    "df_hypothesis['duration'] = df_hypothesis['duration'].str.extract('(\\d+)')\n",
    "\n",
    "# Convert the 'duration' column to numeric\n",
    "df_hypothesis['duration'] = pd.to_numeric(df_hypothesis['duration'])"
   ]
  },
  {
   "cell_type": "code",
   "execution_count": 61,
   "metadata": {},
   "outputs": [
    {
     "name": "stdout",
     "output_type": "stream",
     "text": [
      "int64\n"
     ]
    }
   ],
   "source": [
    "# Check the data type of the 'duration' column\n",
    "print(df_hypothesis['duration'].dtype)\n",
    "\n",
    "# If the 'duration' column is already float64, you can skip the conversion\n",
    "# df_hypothesis['duration'] = df_hypothesis['duration'].astype(float)\n",
    "\n",
    "# Continue with converting the 'duration' column to numeric (if needed)\n",
    "df_hypothesis['duration'] = pd.to_numeric(df_hypothesis['duration'])"
   ]
  },
  {
   "cell_type": "code",
   "execution_count": 62,
   "metadata": {},
   "outputs": [
    {
     "data": {
      "text/html": [
       "<div>\n",
       "<style scoped>\n",
       "    .dataframe tbody tr th:only-of-type {\n",
       "        vertical-align: middle;\n",
       "    }\n",
       "\n",
       "    .dataframe tbody tr th {\n",
       "        vertical-align: top;\n",
       "    }\n",
       "\n",
       "    .dataframe thead th {\n",
       "        text-align: right;\n",
       "    }\n",
       "</style>\n",
       "<table border=\"1\" class=\"dataframe\">\n",
       "  <thead>\n",
       "    <tr style=\"text-align: right;\">\n",
       "      <th></th>\n",
       "      <th>show_id</th>\n",
       "      <th>type</th>\n",
       "      <th>title</th>\n",
       "      <th>director</th>\n",
       "      <th>cast</th>\n",
       "      <th>country</th>\n",
       "      <th>release_year</th>\n",
       "      <th>rating</th>\n",
       "      <th>duration</th>\n",
       "      <th>listed_in</th>\n",
       "      <th>description</th>\n",
       "      <th>Month</th>\n",
       "      <th>Decade</th>\n",
       "      <th>month_added</th>\n",
       "      <th>year_added</th>\n",
       "    </tr>\n",
       "  </thead>\n",
       "  <tbody>\n",
       "    <tr>\n",
       "      <th>0</th>\n",
       "      <td>s1</td>\n",
       "      <td>Movie</td>\n",
       "      <td>Dick Johnson Is Dead</td>\n",
       "      <td>Kirsten Johnson</td>\n",
       "      <td>Unknown</td>\n",
       "      <td>United States</td>\n",
       "      <td>2020</td>\n",
       "      <td>PG-13</td>\n",
       "      <td>90</td>\n",
       "      <td>Documentaries</td>\n",
       "      <td>As her father nears the end of his life, filmm...</td>\n",
       "      <td>September</td>\n",
       "      <td>2020</td>\n",
       "      <td>9</td>\n",
       "      <td>2021</td>\n",
       "    </tr>\n",
       "    <tr>\n",
       "      <th>1</th>\n",
       "      <td>s2</td>\n",
       "      <td>TV Show</td>\n",
       "      <td>Blood &amp; Water</td>\n",
       "      <td>Unknown</td>\n",
       "      <td>Ama Qamata, Khosi Ngema, Gail Mabalane, Thaban...</td>\n",
       "      <td>South Africa</td>\n",
       "      <td>2021</td>\n",
       "      <td>TV-MA</td>\n",
       "      <td>2</td>\n",
       "      <td>International TV Shows</td>\n",
       "      <td>After crossing paths at a party, a Cape Town t...</td>\n",
       "      <td>September</td>\n",
       "      <td>2020</td>\n",
       "      <td>9</td>\n",
       "      <td>2021</td>\n",
       "    </tr>\n",
       "    <tr>\n",
       "      <th>2</th>\n",
       "      <td>s3</td>\n",
       "      <td>TV Show</td>\n",
       "      <td>Ganglands</td>\n",
       "      <td>Julien Leclercq</td>\n",
       "      <td>Sami Bouajila, Tracy Gotoas, Samuel Jouy, Nabi...</td>\n",
       "      <td>Unknown</td>\n",
       "      <td>2021</td>\n",
       "      <td>TV-MA</td>\n",
       "      <td>1</td>\n",
       "      <td>Crime TV Shows</td>\n",
       "      <td>To protect his family from a powerful drug lor...</td>\n",
       "      <td>September</td>\n",
       "      <td>2020</td>\n",
       "      <td>9</td>\n",
       "      <td>2021</td>\n",
       "    </tr>\n",
       "  </tbody>\n",
       "</table>\n",
       "</div>"
      ],
      "text/plain": [
       "  show_id     type                 title         director  \\\n",
       "0      s1    Movie  Dick Johnson Is Dead  Kirsten Johnson   \n",
       "1      s2  TV Show         Blood & Water          Unknown   \n",
       "2      s3  TV Show             Ganglands  Julien Leclercq   \n",
       "\n",
       "                                                cast        country  \\\n",
       "0                                            Unknown  United States   \n",
       "1  Ama Qamata, Khosi Ngema, Gail Mabalane, Thaban...   South Africa   \n",
       "2  Sami Bouajila, Tracy Gotoas, Samuel Jouy, Nabi...        Unknown   \n",
       "\n",
       "   release_year rating  duration               listed_in  \\\n",
       "0          2020  PG-13        90           Documentaries   \n",
       "1          2021  TV-MA         2  International TV Shows   \n",
       "2          2021  TV-MA         1          Crime TV Shows   \n",
       "\n",
       "                                         description      Month  Decade  \\\n",
       "0  As her father nears the end of his life, filmm...  September    2020   \n",
       "1  After crossing paths at a party, a Cape Town t...  September    2020   \n",
       "2  To protect his family from a powerful drug lor...  September    2020   \n",
       "\n",
       "   month_added  year_added  \n",
       "0            9        2021  \n",
       "1            9        2021  \n",
       "2            9        2021  "
      ]
     },
     "execution_count": 62,
     "metadata": {},
     "output_type": "execute_result"
    }
   ],
   "source": [
    "df_hypothesis['type'] = pd.Categorical(df_hypothesis['type'], categories=['Movie','TV Show'])\n",
    "#from duration feature extractin string part and after extracting Changing the object type to numeric\n",
    "#df_hypothesis['duration']= df_hypothesis['duration'].str.extract('(\\d+)')\n",
    "#df_hypothesis['duration'] = pd.to_numeric(df_hypothesis['duration'])\n",
    "#head of df_\n",
    "df_hypothesis.head(3)"
   ]
  },
  {
   "cell_type": "code",
   "execution_count": 63,
   "metadata": {},
   "outputs": [
    {
     "data": {
      "text/html": [
       "<div>\n",
       "<style scoped>\n",
       "    .dataframe tbody tr th:only-of-type {\n",
       "        vertical-align: middle;\n",
       "    }\n",
       "\n",
       "    .dataframe tbody tr th {\n",
       "        vertical-align: top;\n",
       "    }\n",
       "\n",
       "    .dataframe thead th {\n",
       "        text-align: right;\n",
       "    }\n",
       "</style>\n",
       "<table border=\"1\" class=\"dataframe\">\n",
       "  <thead>\n",
       "    <tr style=\"text-align: right;\">\n",
       "      <th></th>\n",
       "      <th>type</th>\n",
       "      <th>duration</th>\n",
       "    </tr>\n",
       "  </thead>\n",
       "  <tbody>\n",
       "    <tr>\n",
       "      <th>0</th>\n",
       "      <td>Movie</td>\n",
       "      <td>99.577187</td>\n",
       "    </tr>\n",
       "    <tr>\n",
       "      <th>1</th>\n",
       "      <td>TV Show</td>\n",
       "      <td>1.751313</td>\n",
       "    </tr>\n",
       "  </tbody>\n",
       "</table>\n",
       "</div>"
      ],
      "text/plain": [
       "      type   duration\n",
       "0    Movie  99.577187\n",
       "1  TV Show   1.751313"
      ]
     },
     "execution_count": 63,
     "metadata": {},
     "output_type": "execute_result"
    }
   ],
   "source": [
    "#group_by duration and TYPE                 \n",
    "group_by_= df_hypothesis[['duration','type']].groupby(by='type')\n",
    "#mean of group_by variable\n",
    "group=group_by_.mean().reset_index()\n",
    "group"
   ]
  },
  {
   "cell_type": "code",
   "execution_count": 64,
   "metadata": {},
   "outputs": [
    {
     "name": "stdout",
     "output_type": "stream",
     "text": [
      "Mean  duration    99.577187\n",
      "dtype: float64\n",
      "Std  duration    1.550176\n",
      "dtype: float64\n"
     ]
    }
   ],
   "source": [
    "#In A and B variable grouping values \n",
    "A= group_by_.get_group('Movie')\n",
    "B= group_by_.get_group('TV Show')\n",
    "#mean and std\n",
    "M1 = A.mean()\n",
    "S1 = A.std()\n",
    "\n",
    "M2= B.mean()\n",
    "S2 = B.std()\n",
    "\n",
    "print('Mean  {}'.format(M1,M2))\n",
    "print('Std  {}'.format(S2,S1))"
   ]
  },
  {
   "cell_type": "code",
   "execution_count": 65,
   "metadata": {},
   "outputs": [
    {
     "name": "stdout",
     "output_type": "stream",
     "text": [
      "6128 2666\n",
      "dof 8792\n",
      "SP_2 = duration    244.276238\n",
      "dtype: float64\n",
      "SP duration    15.629339\n",
      "dtype: float64\n",
      "tvalue 269.77974833560313\n"
     ]
    }
   ],
   "source": [
    "#import stats \n",
    "from scipy import stats\n",
    "#length of groups and DOF\n",
    "n1 = len(A)\n",
    "n2= len(B)\n",
    "print(n1,n2)\n",
    "\n",
    "dof = n1+n2-2\n",
    "print('dof',dof)\n",
    "\n",
    "sp_2 = ((n2-1)*S1**2  + (n1-1)*S2**2) / dof\n",
    "print('SP_2 =',sp_2)\n",
    "\n",
    "sp = np.sqrt(sp_2)\n",
    "print('SP',sp)\n",
    "\n",
    "#tvalue\n",
    "t_val = (M1-M2)/(sp * np.sqrt(1/n1 + 1/n2))\n",
    "print('tvalue',t_val[0])"
   ]
  },
  {
   "cell_type": "code",
   "execution_count": 66,
   "metadata": {},
   "outputs": [
    {
     "data": {
      "text/plain": [
       "-1.9602338426262338"
      ]
     },
     "execution_count": 66,
     "metadata": {},
     "output_type": "execute_result"
    }
   ],
   "source": [
    "#t-distribution\n",
    "stats.t.ppf(0.025,dof)"
   ]
  },
  {
   "cell_type": "code",
   "execution_count": 67,
   "metadata": {},
   "outputs": [
    {
     "data": {
      "text/plain": [
       "1.9602338426262333"
      ]
     },
     "execution_count": 67,
     "metadata": {},
     "output_type": "execute_result"
    }
   ],
   "source": [
    "#t-distribution\n",
    "stats.t.ppf(0.975,dof)"
   ]
  },
  {
   "cell_type": "markdown",
   "metadata": {},
   "source": [
    "Because the t-value is not in the range, the null hypothesis is rejected.\n",
    "\n",
    "As a result, The duration which is more than 90 mins are movies"
   ]
  },
  {
   "cell_type": "code",
   "execution_count": null,
   "metadata": {},
   "outputs": [],
   "source": []
  },
  {
   "cell_type": "markdown",
   "metadata": {
    "id": "GOttnqL1WQ_C"
   },
   "source": [
    "# **6. Data preprocessing:**"
   ]
  },
  {
   "cell_type": "markdown",
   "metadata": {
    "id": "DGO_hBfVB-w5"
   },
   "source": [
    "## **6.1. Modelling Approach:**\n",
    "1. Select the attributes based on which you want to cluster the shows\n",
    "2. Text preprocessing: Remove all non-ascii characters, stopwords and punctuation marks, convert all textual data to lowercase.\n",
    "3. Lemmatization to generate a meaningful word out of corpus of words\n",
    "4. Tokenization of corpus\n",
    "5. Word vectorization\n",
    "6. Dimensionality reduction\n",
    "6. Use different algorithms to cluster the movies, obtain the optimal number of clusters using different techniques\n",
    "7. Build optimal number of clusters and visualize the contents of each cluster using wordclouds."
   ]
  },
  {
   "cell_type": "markdown",
   "metadata": {
    "id": "JJbHKomLLhnF"
   },
   "source": [
    "We will cluster the shows on Netflix based on the following attributes:\n",
    "* Director\n",
    "* Cast\n",
    "* Country\n",
    "* Listed in (genres)\n",
    "* Description"
   ]
  },
  {
   "cell_type": "code",
   "execution_count": 46,
   "metadata": {
    "execution": {
     "iopub.execute_input": "2022-09-23T15:08:52.782909Z",
     "iopub.status.busy": "2022-09-23T15:08:52.781717Z",
     "iopub.status.idle": "2022-09-23T15:08:52.789210Z",
     "shell.execute_reply": "2022-09-23T15:08:52.787552Z",
     "shell.execute_reply.started": "2022-09-23T15:08:52.782860Z"
    },
    "id": "Bim9wf17_wat"
   },
   "outputs": [],
   "source": [
    "# Using the original dataset for clustering since\n",
    "# it does not require handling missing values\n",
    "df1 = original_df.copy()"
   ]
  },
  {
   "cell_type": "code",
   "execution_count": 47,
   "metadata": {
    "execution": {
     "iopub.execute_input": "2022-09-23T15:08:52.792072Z",
     "iopub.status.busy": "2022-09-23T15:08:52.791494Z",
     "iopub.status.idle": "2022-09-23T15:08:52.811984Z",
     "shell.execute_reply": "2022-09-23T15:08:52.810806Z",
     "shell.execute_reply.started": "2022-09-23T15:08:52.792007Z"
    },
    "id": "lYef40qnhrY0"
   },
   "outputs": [],
   "source": [
    "df1.fillna('',inplace=True)"
   ]
  },
  {
   "cell_type": "code",
   "execution_count": null,
   "metadata": {
    "execution": {
     "iopub.execute_input": "2022-09-23T15:08:52.815307Z",
     "iopub.status.busy": "2022-09-23T15:08:52.814413Z",
     "iopub.status.idle": "2022-09-23T15:08:52.841271Z",
     "shell.execute_reply": "2022-09-23T15:08:52.839792Z",
     "shell.execute_reply.started": "2022-09-23T15:08:52.815237Z"
    },
    "id": "fdGsORQl_wau"
   },
   "outputs": [],
   "source": [
    "# Combining all the clustering attributes into a single column\n",
    "\n",
    "df1['clustering_attributes'] = (df1['director'] + ' ' + \n",
    "                                df1['cast'] +' ' + \n",
    "                                df1['country'] +' ' + \n",
    "                                df1['listed_in'] +' ' + \n",
    "                                df1['description'])"
   ]
  },
  {
   "cell_type": "code",
   "execution_count": null,
   "metadata": {
    "execution": {
     "iopub.execute_input": "2022-09-23T15:08:52.843569Z",
     "iopub.status.busy": "2022-09-23T15:08:52.842993Z",
     "iopub.status.idle": "2022-09-23T15:08:52.850876Z",
     "shell.execute_reply": "2022-09-23T15:08:52.849579Z",
     "shell.execute_reply.started": "2022-09-23T15:08:52.843534Z"
    },
    "id": "etG9Ses-i2XW",
    "outputId": "a1dc22f2-c2f2-44dd-87ff-f4e37a0b2f69"
   },
   "outputs": [],
   "source": [
    "df1['clustering_attributes'][40]"
   ]
  },
  {
   "cell_type": "markdown",
   "metadata": {
    "id": "f9rZQVvh7hNM"
   },
   "source": [
    "* **We have successfully added all the necessary data into a single column**"
   ]
  },
  {
   "cell_type": "markdown",
   "metadata": {
    "id": "Hmb4iwLImkU7"
   },
   "source": [
    "## **6.2. Removing non-ASCII characters:**"
   ]
  },
  {
   "cell_type": "code",
   "execution_count": null,
   "metadata": {
    "execution": {
     "iopub.execute_input": "2022-09-23T15:08:52.896153Z",
     "iopub.status.busy": "2022-09-23T15:08:52.895478Z",
     "iopub.status.idle": "2022-09-23T15:08:52.902446Z",
     "shell.execute_reply": "2022-09-23T15:08:52.901486Z",
     "shell.execute_reply.started": "2022-09-23T15:08:52.896098Z"
    },
    "id": "q5rzHh87mjhw"
   },
   "outputs": [],
   "source": [
    "# function to remove non-ascii characters\n",
    "\n",
    "def remove_non_ascii(words):\n",
    "    \"\"\"Function to remove non-ASCII characters\"\"\"\n",
    "    new_words = []\n",
    "    for word in words:\n",
    "        new_word = unicodedata.normalize('NFKD', word).encode('ascii', 'ignore').decode('utf-8', 'ignore')\n",
    "        new_words.append(new_word)\n",
    "    return new_words"
   ]
  },
  {
   "cell_type": "code",
   "execution_count": null,
   "metadata": {
    "execution": {
     "iopub.execute_input": "2022-09-23T15:08:53.114921Z",
     "iopub.status.busy": "2022-09-23T15:08:53.114215Z",
     "iopub.status.idle": "2022-09-23T15:08:53.142393Z",
     "shell.execute_reply": "2022-09-23T15:08:53.141015Z",
     "shell.execute_reply.started": "2022-09-23T15:08:53.114879Z"
    },
    "id": "hfJua79KoJRm"
   },
   "outputs": [],
   "source": [
    "# remove non-ascii characters\n",
    "df1['clustering_attributes'] = remove_non_ascii(df1['clustering_attributes'])"
   ]
  },
  {
   "cell_type": "code",
   "execution_count": null,
   "metadata": {
    "execution": {
     "iopub.execute_input": "2022-09-23T15:08:53.358013Z",
     "iopub.status.busy": "2022-09-23T15:08:53.357582Z",
     "iopub.status.idle": "2022-09-23T15:08:53.367233Z",
     "shell.execute_reply": "2022-09-23T15:08:53.365712Z",
     "shell.execute_reply.started": "2022-09-23T15:08:53.357981Z"
    },
    "id": "_D2XjeZ5oR_2",
    "outputId": "abc1fc99-450a-4db3-869d-c780b25203e3"
   },
   "outputs": [],
   "source": [
    "df1['clustering_attributes'][40]"
   ]
  },
  {
   "cell_type": "markdown",
   "metadata": {
    "id": "pct2a6cM74RE"
   },
   "source": [
    "* **We have successfully removed all non-ascii characters from the corpus.**"
   ]
  },
  {
   "cell_type": "markdown",
   "metadata": {
    "id": "7AuWL7yBEOMc"
   },
   "source": [
    "## **6.3. Remove stopwords and lower case:**"
   ]
  },
  {
   "cell_type": "code",
   "execution_count": null,
   "metadata": {
    "execution": {
     "iopub.execute_input": "2022-09-23T15:08:54.148441Z",
     "iopub.status.busy": "2022-09-23T15:08:54.147988Z",
     "iopub.status.idle": "2022-09-23T15:08:54.161806Z",
     "shell.execute_reply": "2022-09-23T15:08:54.160146Z",
     "shell.execute_reply.started": "2022-09-23T15:08:54.148407Z"
    },
    "id": "gXi0vNSfEUXf",
    "outputId": "9648c3bf-1c39-46fb-c377-7f89a2cf760f"
   },
   "outputs": [],
   "source": [
    "# extracting the stopwords from nltk library\n",
    "import nltk\n",
    "from nltk.corpus import stopwords\n",
    "sw = stopwords.words('english')\n",
    "# displaying the stopwords\n",
    "np.array(sw)"
   ]
  },
  {
   "cell_type": "code",
   "execution_count": null,
   "metadata": {
    "execution": {
     "iopub.execute_input": "2022-09-23T15:08:54.430565Z",
     "iopub.status.busy": "2022-09-23T15:08:54.429538Z",
     "iopub.status.idle": "2022-09-23T15:08:54.437623Z",
     "shell.execute_reply": "2022-09-23T15:08:54.436431Z",
     "shell.execute_reply.started": "2022-09-23T15:08:54.430514Z"
    },
    "id": "bWFuBCYgE2r7"
   },
   "outputs": [],
   "source": [
    "# function to remove stop words\n",
    "def stopwords(text):\n",
    "    '''a function for removing the stopword'''\n",
    "    # removing the stop words and lowercasing the selected words\n",
    "    text = [word.lower() for word in text.split() if word.lower() not in sw]\n",
    "    # joining the list of words with space separator\n",
    "    return \" \".join(text)"
   ]
  },
  {
   "cell_type": "code",
   "execution_count": null,
   "metadata": {
    "execution": {
     "iopub.execute_input": "2022-09-23T15:08:54.703710Z",
     "iopub.status.busy": "2022-09-23T15:08:54.702490Z",
     "iopub.status.idle": "2022-09-23T15:08:55.780686Z",
     "shell.execute_reply": "2022-09-23T15:08:55.779368Z",
     "shell.execute_reply.started": "2022-09-23T15:08:54.703664Z"
    },
    "id": "iqWUMUx4E5tN"
   },
   "outputs": [],
   "source": [
    "# Removing stop words\n",
    "df1['clustering_attributes'] = df1['clustering_attributes'].apply(stopwords)"
   ]
  },
  {
   "cell_type": "code",
   "execution_count": null,
   "metadata": {
    "execution": {
     "iopub.execute_input": "2022-09-23T15:08:55.783431Z",
     "iopub.status.busy": "2022-09-23T15:08:55.783030Z",
     "iopub.status.idle": "2022-09-23T15:08:55.792356Z",
     "shell.execute_reply": "2022-09-23T15:08:55.790600Z",
     "shell.execute_reply.started": "2022-09-23T15:08:55.783395Z"
    },
    "id": "J7jwum69mMFa",
    "outputId": "d750a876-09f4-402d-dbb0-e99cd527dc42"
   },
   "outputs": [],
   "source": [
    "df1['clustering_attributes'][40]"
   ]
  },
  {
   "cell_type": "markdown",
   "metadata": {
    "id": "KK96lG1u8D8B"
   },
   "source": [
    "* **We have successfully removed all the stopwords and converted the corpus to lowercase.**"
   ]
  },
  {
   "cell_type": "markdown",
   "metadata": {
    "id": "63fo5c2nDpc2"
   },
   "source": [
    "## **6.4. Remove punctuations**"
   ]
  },
  {
   "cell_type": "code",
   "execution_count": null,
   "metadata": {
    "execution": {
     "iopub.execute_input": "2022-09-23T15:08:55.795137Z",
     "iopub.status.busy": "2022-09-23T15:08:55.794295Z",
     "iopub.status.idle": "2022-09-23T15:08:55.803262Z",
     "shell.execute_reply": "2022-09-23T15:08:55.801863Z",
     "shell.execute_reply.started": "2022-09-23T15:08:55.795079Z"
    },
    "id": "I-xQEPbiCTj1"
   },
   "outputs": [],
   "source": [
    "# function to remove punctuations\n",
    "def remove_punctuation(text):\n",
    "    '''a function for removing punctuation'''\n",
    "    translator = str.maketrans('', '', string.punctuation)\n",
    "    # return the text stripped of punctuation marks\n",
    "    return text.translate(translator)"
   ]
  },
  {
   "cell_type": "code",
   "execution_count": null,
   "metadata": {
    "execution": {
     "iopub.execute_input": "2022-09-23T15:08:55.972858Z",
     "iopub.status.busy": "2022-09-23T15:08:55.972397Z",
     "iopub.status.idle": "2022-09-23T15:08:56.025872Z",
     "shell.execute_reply": "2022-09-23T15:08:56.024606Z",
     "shell.execute_reply.started": "2022-09-23T15:08:55.972822Z"
    },
    "id": "-O85x7QMCvei"
   },
   "outputs": [],
   "source": [
    "# Removing punctuation marks\n",
    "df1['clustering_attributes'] = df1['clustering_attributes'].apply(remove_punctuation)"
   ]
  },
  {
   "cell_type": "code",
   "execution_count": null,
   "metadata": {
    "execution": {
     "iopub.execute_input": "2022-09-23T15:08:56.181248Z",
     "iopub.status.busy": "2022-09-23T15:08:56.180734Z",
     "iopub.status.idle": "2022-09-23T15:08:56.190907Z",
     "shell.execute_reply": "2022-09-23T15:08:56.189647Z",
     "shell.execute_reply.started": "2022-09-23T15:08:56.181202Z"
    },
    "id": "8JxdfXU2kfED",
    "outputId": "43a2cb27-af52-4c85-c821-819ddb113d74"
   },
   "outputs": [],
   "source": [
    "df1['clustering_attributes'][40]"
   ]
  },
  {
   "cell_type": "markdown",
   "metadata": {
    "id": "NPSRcgpc8QtR"
   },
   "source": [
    "* **We have successfully dropped all the punctuation marks from the corpus.**"
   ]
  },
  {
   "cell_type": "markdown",
   "metadata": {
    "id": "2LZQZ-smGORv"
   },
   "source": [
    "## **6.5. Lemmatization:**"
   ]
  },
  {
   "cell_type": "code",
   "execution_count": null,
   "metadata": {
    "execution": {
     "iopub.execute_input": "2022-09-23T15:08:56.869353Z",
     "iopub.status.busy": "2022-09-23T15:08:56.868636Z",
     "iopub.status.idle": "2022-09-23T15:08:56.876412Z",
     "shell.execute_reply": "2022-09-23T15:08:56.875389Z",
     "shell.execute_reply.started": "2022-09-23T15:08:56.869309Z"
    },
    "id": "rXQi503tJUAS"
   },
   "outputs": [],
   "source": [
    "# function to lemmatize the corpus\n",
    "def lemmatize_verbs(words):\n",
    "    \"\"\"Lemmatize verbs in list of tokenized words\"\"\"\n",
    "    lemmatizer = WordNetLemmatizer()\n",
    "    lemmas = []\n",
    "    for word in words:\n",
    "        lemma = lemmatizer.lemmatize(word, pos='v')\n",
    "        lemmas.append(lemma)\n",
    "    return lemmas"
   ]
  },
  {
   "cell_type": "code",
   "execution_count": null,
   "metadata": {
    "execution": {
     "iopub.execute_input": "2022-09-23T15:08:57.140660Z",
     "iopub.status.busy": "2022-09-23T15:08:57.140001Z",
     "iopub.status.idle": "2022-09-23T15:08:59.091638Z",
     "shell.execute_reply": "2022-09-23T15:08:59.090540Z",
     "shell.execute_reply.started": "2022-09-23T15:08:57.140613Z"
    },
    "id": "Qpj6D3UnJVWw"
   },
   "outputs": [],
   "source": [
    "# Lemmatization\n",
    "df1['clustering_attributes'] = lemmatize_verbs(df1['clustering_attributes'])"
   ]
  },
  {
   "cell_type": "code",
   "execution_count": null,
   "metadata": {
    "execution": {
     "iopub.execute_input": "2022-09-23T15:08:59.094122Z",
     "iopub.status.busy": "2022-09-23T15:08:59.093214Z",
     "iopub.status.idle": "2022-09-23T15:08:59.100925Z",
     "shell.execute_reply": "2022-09-23T15:08:59.099612Z",
     "shell.execute_reply.started": "2022-09-23T15:08:59.094082Z"
    },
    "id": "ofuXvKWnJj5S",
    "outputId": "684a5f43-c823-4ed1-dce9-4f78c07cd14b"
   },
   "outputs": [],
   "source": [
    "df1['clustering_attributes'][40]"
   ]
  },
  {
   "cell_type": "markdown",
   "metadata": {
    "id": "Kk3-dZky8p8e"
   },
   "source": [
    "* **We have lemmatized the corpus.**"
   ]
  },
  {
   "cell_type": "markdown",
   "metadata": {
    "id": "sXgIkF2MCaUX"
   },
   "source": [
    "## **6.6. Tokenization:**"
   ]
  },
  {
   "cell_type": "code",
   "execution_count": null,
   "metadata": {
    "execution": {
     "iopub.execute_input": "2022-09-23T15:09:00.750233Z",
     "iopub.status.busy": "2022-09-23T15:09:00.749493Z",
     "iopub.status.idle": "2022-09-23T15:09:00.754260Z",
     "shell.execute_reply": "2022-09-23T15:09:00.753361Z",
     "shell.execute_reply.started": "2022-09-23T15:09:00.750193Z"
    },
    "id": "Ae1xly4UlYbl"
   },
   "outputs": [],
   "source": [
    "tokenizer = TweetTokenizer()"
   ]
  },
  {
   "cell_type": "code",
   "execution_count": null,
   "metadata": {
    "execution": {
     "iopub.execute_input": "2022-09-23T15:09:00.993825Z",
     "iopub.status.busy": "2022-09-23T15:09:00.992917Z",
     "iopub.status.idle": "2022-09-23T15:09:02.734408Z",
     "shell.execute_reply": "2022-09-23T15:09:02.732969Z",
     "shell.execute_reply.started": "2022-09-23T15:09:00.993767Z"
    },
    "id": "xnTeiQkLlyCe"
   },
   "outputs": [],
   "source": [
    "df1['clustering_attributes'] = df1['clustering_attributes'].apply(lambda x: tokenizer.tokenize(x))"
   ]
  },
  {
   "cell_type": "markdown",
   "metadata": {
    "id": "bmgzXSZr8v9K"
   },
   "source": [
    "* **The corpus is converted to tokens.**"
   ]
  },
  {
   "cell_type": "markdown",
   "metadata": {
    "id": "yl7_pNysDItx"
   },
   "source": [
    "## **6.7. Vectorization:**"
   ]
  },
  {
   "cell_type": "code",
   "execution_count": null,
   "metadata": {
    "execution": {
     "iopub.execute_input": "2022-09-23T15:09:02.737195Z",
     "iopub.status.busy": "2022-09-23T15:09:02.736752Z",
     "iopub.status.idle": "2022-09-23T15:09:02.742711Z",
     "shell.execute_reply": "2022-09-23T15:09:02.741267Z",
     "shell.execute_reply.started": "2022-09-23T15:09:02.737156Z"
    },
    "id": "mB-jhiZMpla2"
   },
   "outputs": [],
   "source": [
    "# clustering tokens saved in a variable\n",
    "clustering_data = df1['clustering_attributes']"
   ]
  },
  {
   "cell_type": "code",
   "execution_count": null,
   "metadata": {
    "execution": {
     "iopub.execute_input": "2022-09-23T15:09:02.745264Z",
     "iopub.status.busy": "2022-09-23T15:09:02.744718Z",
     "iopub.status.idle": "2022-09-23T15:09:03.158676Z",
     "shell.execute_reply": "2022-09-23T15:09:03.157376Z",
     "shell.execute_reply.started": "2022-09-23T15:09:02.745222Z"
    },
    "id": "RzbF4fZuqZDN"
   },
   "outputs": [],
   "source": [
    "# Tokenization\n",
    "def identity_tokenizer(text):\n",
    "    return text\n",
    "\n",
    "# Using TFIDF vectorizer to vectorize the corpus \n",
    "# max features = 20000 to prevent system from crashing\n",
    "tfidf = TfidfVectorizer(tokenizer=identity_tokenizer, stop_words='english', lowercase=False,max_features = 20000)    \n",
    "X = tfidf.fit_transform(clustering_data)"
   ]
  },
  {
   "cell_type": "code",
   "execution_count": null,
   "metadata": {
    "execution": {
     "iopub.execute_input": "2022-09-23T15:09:03.161776Z",
     "iopub.status.busy": "2022-09-23T15:09:03.161367Z",
     "iopub.status.idle": "2022-09-23T15:09:03.170914Z",
     "shell.execute_reply": "2022-09-23T15:09:03.169309Z",
     "shell.execute_reply.started": "2022-09-23T15:09:03.161738Z"
    },
    "id": "ctqg2mocLCY8",
    "outputId": "76c5fd5e-7a30-43aa-f3e2-4d70cde49151"
   },
   "outputs": [],
   "source": [
    "X"
   ]
  },
  {
   "cell_type": "code",
   "execution_count": null,
   "metadata": {
    "execution": {
     "iopub.execute_input": "2022-09-23T15:09:03.173335Z",
     "iopub.status.busy": "2022-09-23T15:09:03.172789Z",
     "iopub.status.idle": "2022-09-23T15:09:03.181805Z",
     "shell.execute_reply": "2022-09-23T15:09:03.180850Z",
     "shell.execute_reply.started": "2022-09-23T15:09:03.173295Z"
    },
    "id": "llWZELm9LEws",
    "outputId": "c6029813-a863-493b-aee8-a1f44aebf1de"
   },
   "outputs": [],
   "source": [
    "# Shape of X\n",
    "X.shape"
   ]
  },
  {
   "cell_type": "code",
   "execution_count": null,
   "metadata": {
    "execution": {
     "iopub.execute_input": "2022-09-23T15:09:03.183872Z",
     "iopub.status.busy": "2022-09-23T15:09:03.182890Z",
     "iopub.status.idle": "2022-09-23T15:09:03.197117Z",
     "shell.execute_reply": "2022-09-23T15:09:03.195450Z",
     "shell.execute_reply.started": "2022-09-23T15:09:03.183835Z"
    },
    "id": "yhaz2Y6DCvcP",
    "outputId": "5c508fca-56ee-4950-a52b-5e811999692b"
   },
   "outputs": [],
   "source": [
    "# data type of vector\n",
    "type(X)"
   ]
  },
  {
   "cell_type": "code",
   "execution_count": null,
   "metadata": {
    "execution": {
     "iopub.execute_input": "2022-09-23T15:09:03.199307Z",
     "iopub.status.busy": "2022-09-23T15:09:03.198524Z",
     "iopub.status.idle": "2022-09-23T15:09:04.095091Z",
     "shell.execute_reply": "2022-09-23T15:09:04.093748Z",
     "shell.execute_reply.started": "2022-09-23T15:09:03.199266Z"
    },
    "id": "7q28zJXYCvcP"
   },
   "outputs": [],
   "source": [
    "# convert X into array form for clustering\n",
    "X = X.toarray()"
   ]
  },
  {
   "cell_type": "markdown",
   "metadata": {
    "id": "kbcBZ_VwDw0-"
   },
   "source": [
    "## **6.8. Dimensionality reduction using PCA:**"
   ]
  },
  {
   "cell_type": "markdown",
   "metadata": {
    "id": "a3PPH0qMCvcQ"
   },
   "source": [
    "* We can use PCA (Principal component Analysis) to reduce the dimensionality of data."
   ]
  },
  {
   "cell_type": "code",
   "execution_count": null,
   "metadata": {
    "execution": {
     "iopub.execute_input": "2022-09-23T15:09:04.098922Z",
     "iopub.status.busy": "2022-09-23T15:09:04.098320Z",
     "iopub.status.idle": "2022-09-23T15:15:29.669894Z",
     "shell.execute_reply": "2022-09-23T15:15:29.668443Z",
     "shell.execute_reply.started": "2022-09-23T15:09:04.098872Z"
    },
    "id": "Q3iDQQH3CvcQ",
    "outputId": "04173fa9-67c9-45dc-c63a-e30fab3df375"
   },
   "outputs": [],
   "source": [
    "# using PCA to reduce dimensionality\n",
    "pca = PCA(random_state=42)\n",
    "pca.fit(X)"
   ]
  },
  {
   "cell_type": "code",
   "execution_count": null,
   "metadata": {
    "execution": {
     "iopub.execute_input": "2022-09-23T15:15:29.672274Z",
     "iopub.status.busy": "2022-09-23T15:15:29.671762Z",
     "iopub.status.idle": "2022-09-23T15:15:30.010476Z",
     "shell.execute_reply": "2022-09-23T15:15:30.008936Z",
     "shell.execute_reply.started": "2022-09-23T15:15:29.672226Z"
    },
    "id": "ldDbV8Q0CvcQ",
    "outputId": "9349aaec-ec35-4f4f-b9a2-6885461ade7e"
   },
   "outputs": [],
   "source": [
    "# Explained variance for different number of components\n",
    "plt.figure(figsize=(10,5))\n",
    "plt.plot(np.cumsum(pca.explained_variance_ratio_))\n",
    "plt.title('PCA - Cumulative explained variance vs number of components')\n",
    "plt.xlabel('number of components')\n",
    "plt.ylabel('cumulative explained variance')"
   ]
  },
  {
   "cell_type": "markdown",
   "metadata": {
    "id": "NDrTCHMiCvcQ"
   },
   "source": [
    "* We find that **100%** of the variance is explained by about **~7500 components**.\n",
    "* Also, more than **80%** of the variance is explained just by **4000 components**.\n",
    "* Hence to simplify the model, and reduce dimensionality, we can take the top 4000 components, which will still be able to capture more than 80% of variance."
   ]
  },
  {
   "cell_type": "code",
   "execution_count": null,
   "metadata": {
    "execution": {
     "iopub.execute_input": "2022-09-23T15:15:30.014407Z",
     "iopub.status.busy": "2022-09-23T15:15:30.013853Z",
     "iopub.status.idle": "2022-09-23T15:20:56.157235Z",
     "shell.execute_reply": "2022-09-23T15:20:56.155839Z",
     "shell.execute_reply.started": "2022-09-23T15:15:30.014357Z"
    },
    "id": "63uD7xTECvcQ",
    "outputId": "018fb6d4-23f8-4932-9b95-95cb81192e04"
   },
   "outputs": [],
   "source": [
    "# reducing the dimensions to 5000 using pca\n",
    "pca = PCA(n_components=5000,random_state=42)\n",
    "pca.fit(X)"
   ]
  },
  {
   "cell_type": "code",
   "execution_count": null,
   "metadata": {
    "execution": {
     "iopub.execute_input": "2022-09-23T15:20:56.159876Z",
     "iopub.status.busy": "2022-09-23T15:20:56.159399Z",
     "iopub.status.idle": "2022-09-23T15:21:16.425958Z",
     "shell.execute_reply": "2022-09-23T15:21:16.423867Z",
     "shell.execute_reply.started": "2022-09-23T15:20:56.159830Z"
    },
    "id": "wqfGuW81CvcQ"
   },
   "outputs": [],
   "source": [
    "# transformed features\n",
    "x_pca = pca.transform(X)"
   ]
  },
  {
   "cell_type": "code",
   "execution_count": null,
   "metadata": {
    "execution": {
     "iopub.execute_input": "2022-09-23T15:21:16.435760Z",
     "iopub.status.busy": "2022-09-23T15:21:16.434683Z",
     "iopub.status.idle": "2022-09-23T15:21:16.445655Z",
     "shell.execute_reply": "2022-09-23T15:21:16.444439Z",
     "shell.execute_reply.started": "2022-09-23T15:21:16.435686Z"
    },
    "id": "DkFDAY2hCvcR",
    "outputId": "0a1a5fd4-a288-47c2-9b20-484e98373d4c"
   },
   "outputs": [],
   "source": [
    "# shape of transformed vectors\n",
    "x_pca.shape"
   ]
  }
 ],
 "metadata": {
  "kernelspec": {
   "display_name": "Python 3 (ipykernel)",
   "language": "python",
   "name": "python3"
  },
  "language_info": {
   "codemirror_mode": {
    "name": "ipython",
    "version": 3
   },
   "file_extension": ".py",
   "mimetype": "text/x-python",
   "name": "python",
   "nbconvert_exporter": "python",
   "pygments_lexer": "ipython3",
   "version": "3.11.4"
  }
 },
 "nbformat": 4,
 "nbformat_minor": 4
}
